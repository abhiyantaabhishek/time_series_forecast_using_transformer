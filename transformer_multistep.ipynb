{
  "nbformat": 4,
  "nbformat_minor": 0,
  "metadata": {
    "colab": {
      "name": "transformer_multistep.ipynb",
      "provenance": [],
      "collapsed_sections": [],
      "toc_visible": true,
      "include_colab_link": true
    },
    "kernelspec": {
      "display_name": "Python 3",
      "name": "python3"
    },
    "accelerator": "GPU"
  },
  "cells": [
    {
      "cell_type": "markdown",
      "metadata": {
        "id": "view-in-github",
        "colab_type": "text"
      },
      "source": [
        "<a href=\"https://colab.research.google.com/github/abhiyantaabhishek/time_series_forecast_using_transformer/blob/master/transformer_multistep.ipynb\" target=\"_parent\"><img src=\"https://colab.research.google.com/assets/colab-badge.svg\" alt=\"Open In Colab\"/></a>"
      ]
    },
    {
      "cell_type": "code",
      "metadata": {
        "id": "k5YgADHLzXKz",
        "colab_type": "code",
        "colab": {
          "base_uri": "https://localhost:8080/",
          "height": 119
        },
        "outputId": "4c45ed64-8337-4a88-f56f-711f2ae175be"
      },
      "source": [
        "!git clone https://github.com/abhiyantaabhishek/time_series_forecast_using_transformer"
      ],
      "execution_count": 1,
      "outputs": [
        {
          "output_type": "stream",
          "text": [
            "Cloning into 'time_series_forecast_using_transformer'...\n",
            "remote: Enumerating objects: 6, done.\u001b[K\n",
            "remote: Counting objects: 100% (6/6), done.\u001b[K\n",
            "remote: Compressing objects: 100% (4/4), done.\u001b[K\n",
            "remote: Total 6 (delta 0), reused 0 (delta 0), pack-reused 0\u001b[K\n",
            "Unpacking objects: 100% (6/6), done.\n"
          ],
          "name": "stdout"
        }
      ]
    },
    {
      "cell_type": "code",
      "metadata": {
        "id": "xkO0rfh9zg-R",
        "colab_type": "code",
        "colab": {
          "base_uri": "https://localhost:8080/",
          "height": 34
        },
        "outputId": "4104d948-585f-4dc3-ddca-be4d8c37dfeb"
      },
      "source": [
        "%cd time_series_forecast_using_transformer"
      ],
      "execution_count": 2,
      "outputs": [
        {
          "output_type": "stream",
          "text": [
            "/content/time_series_forecast_using_transformer\n"
          ],
          "name": "stdout"
        }
      ]
    },
    {
      "cell_type": "code",
      "metadata": {
        "id": "i1r-9UeKzlMx",
        "colab_type": "code",
        "colab": {}
      },
      "source": [
        "import torch\n",
        "import torch.nn as nn\n",
        "import numpy as np\n",
        "import time\n",
        "import math\n",
        "from matplotlib import pyplot\n",
        "import os\n",
        "\n",
        "torch.manual_seed(0)\n",
        "np.random.seed(0)"
      ],
      "execution_count": 3,
      "outputs": []
    },
    {
      "cell_type": "code",
      "metadata": {
        "id": "zu9QErSXzzT6",
        "colab_type": "code",
        "colab": {
          "base_uri": "https://localhost:8080/",
          "height": 34
        },
        "outputId": "bc3ea171-0871-460b-b254-723dd7cb1910"
      },
      "source": [
        "input_window = 100\n",
        "output_window = 5\n",
        "batch_size = 10 # batch size\n",
        "device = torch.device(\"cuda\" )\n",
        "print(torch.cuda.get_device_name(0))"
      ],
      "execution_count": 4,
      "outputs": [
        {
          "output_type": "stream",
          "text": [
            "Tesla T4\n"
          ],
          "name": "stdout"
        }
      ]
    },
    {
      "cell_type": "code",
      "metadata": {
        "id": "yhMsIdvz0YKh",
        "colab_type": "code",
        "colab": {}
      },
      "source": [
        "class PositionalEncoding(nn.Module):\n",
        "\n",
        "    def __init__(self, d_model, max_len=5000):\n",
        "        super(PositionalEncoding, self).__init__()       \n",
        "        pe = torch.zeros(max_len, d_model)\n",
        "        position = torch.arange(0, max_len, dtype=torch.float).unsqueeze(1)\n",
        "        div_term = torch.exp(torch.arange(0, d_model, 2).float() * (-math.log(10000.0) / d_model))\n",
        "        pe[:, 0::2] = torch.sin(position * div_term)\n",
        "        pe[:, 1::2] = torch.cos(position * div_term)\n",
        "        pe = pe.unsqueeze(0).transpose(0, 1)\n",
        "        #pe.requires_grad = False\n",
        "        self.register_buffer('pe', pe)\n",
        "\n",
        "    def forward(self, x):\n",
        "        return x + self.pe[:x.size(0), :]"
      ],
      "execution_count": 5,
      "outputs": []
    },
    {
      "cell_type": "code",
      "metadata": {
        "id": "OFpAiqT30plR",
        "colab_type": "code",
        "colab": {}
      },
      "source": [
        "class TransAm(nn.Module):\n",
        "    def __init__(self,feature_size=250,num_layers=1,dropout=0.1):\n",
        "        super(TransAm, self).__init__()\n",
        "        self.model_type = 'Transformer'\n",
        "        \n",
        "        self.src_mask = None\n",
        "        self.pos_encoder = PositionalEncoding(feature_size)\n",
        "        self.encoder_layer = nn.TransformerEncoderLayer(d_model=feature_size, nhead=10, dropout=dropout)\n",
        "        self.transformer_encoder = nn.TransformerEncoder(self.encoder_layer, num_layers=num_layers)        \n",
        "        self.decoder = nn.Linear(feature_size,1)\n",
        "        self.init_weights()\n",
        "\n",
        "    def init_weights(self):\n",
        "        initrange = 0.1    \n",
        "        self.decoder.bias.data.zero_()\n",
        "        self.decoder.weight.data.uniform_(-initrange, initrange)\n",
        "\n",
        "    def forward(self,src):\n",
        "        if self.src_mask is None or self.src_mask.size(0) != len(src):\n",
        "            device = src.device\n",
        "            mask = self._generate_square_subsequent_mask(len(src)).to(device)\n",
        "            self.src_mask = mask\n",
        "\n",
        "        src = self.pos_encoder(src)\n",
        "        output = self.transformer_encoder(src,self.src_mask)#, self.src_mask)\n",
        "        output = self.decoder(output)\n",
        "        return output\n",
        "\n",
        "    def _generate_square_subsequent_mask(self, sz):\n",
        "        mask = (torch.triu(torch.ones(sz, sz)) == 1).transpose(0, 1)\n",
        "        mask = mask.float().masked_fill(mask == 0, float('-inf')).masked_fill(mask == 1, float(0.0))\n",
        "        return mask\n"
      ],
      "execution_count": 6,
      "outputs": []
    },
    {
      "cell_type": "code",
      "metadata": {
        "id": "9axUfu_50wTZ",
        "colab_type": "code",
        "colab": {}
      },
      "source": [
        "def create_inout_sequences(input_data, tw):\n",
        "    inout_seq = []\n",
        "    L = len(input_data)\n",
        "    for i in range(L-tw):\n",
        "        train_seq = np.append(input_data[i:i+tw][:-output_window] , output_window * [0])\n",
        "        train_label = input_data[i:i+tw]\n",
        "        #train_label = input_data[i+output_window:i+tw+output_window]\n",
        "        inout_seq.append((train_seq ,train_label))\n",
        "    return torch.FloatTensor(inout_seq)"
      ],
      "execution_count": 7,
      "outputs": []
    },
    {
      "cell_type": "code",
      "metadata": {
        "id": "UnvN_30g1q4C",
        "colab_type": "code",
        "colab": {}
      },
      "source": [
        "def get_data():\n",
        "    time        = np.arange(0, 400, 0.1)\n",
        "    amplitude   = np.sin(time) + np.sin(time*0.05) +np.sin(time*0.12) *np.random.normal(-0.2, 0.2, len(time))\n",
        "    \n",
        "    #from pandas import read_csv\n",
        "    #series = read_csv('daily-min-temperatures.csv', header=0, index_col=0, parse_dates=True, squeeze=True)\n",
        "    \n",
        "    from sklearn.preprocessing import MinMaxScaler\n",
        "    scaler = MinMaxScaler(feature_range=(-1, 1)) \n",
        "    #amplitude = scaler.fit_transform(series.to_numpy().reshape(-1, 1)).reshape(-1)\n",
        "    amplitude = scaler.fit_transform(amplitude.reshape(-1, 1)).reshape(-1)\n",
        "    \n",
        "    \n",
        "    sampels = 2800\n",
        "    train_data = amplitude[:sampels]\n",
        "    test_data = amplitude[sampels:]\n",
        "\n",
        "    # convert our train data into a pytorch train tensor\n",
        "    #train_tensor = torch.FloatTensor(train_data).view(-1)\n",
        "    # todo: add comment.. \n",
        "    train_sequence = create_inout_sequences(train_data,input_window)\n",
        "    train_sequence = train_sequence[:-output_window] #todo: fix hack?\n",
        "\n",
        "    #test_data = torch.FloatTensor(test_data).view(-1) \n",
        "    test_data = create_inout_sequences(test_data,input_window)\n",
        "    test_data = test_data[:-output_window] #todo: fix hack?\n",
        "\n",
        "    return train_sequence.to(device),test_data.to(device)"
      ],
      "execution_count": 8,
      "outputs": []
    },
    {
      "cell_type": "code",
      "metadata": {
        "id": "WepwpCMP1s0K",
        "colab_type": "code",
        "colab": {}
      },
      "source": [
        "def get_batch(source, i,batch_size):\n",
        "    seq_len = min(batch_size, len(source) - 1 - i)\n",
        "    data = source[i:i+seq_len]    \n",
        "    input = torch.stack(torch.stack([item[0] for item in data]).chunk(input_window,1)) # 1 is feature size\n",
        "    target = torch.stack(torch.stack([item[1] for item in data]).chunk(input_window,1))\n",
        "    return input, target"
      ],
      "execution_count": 9,
      "outputs": []
    },
    {
      "cell_type": "code",
      "metadata": {
        "id": "LiZMe2SL1xaQ",
        "colab_type": "code",
        "colab": {}
      },
      "source": [
        "def train(train_data):\n",
        "    model.train() # Turn on the train mode\n",
        "    total_loss = 0.\n",
        "    start_time = time.time()\n",
        "\n",
        "    for batch, i in enumerate(range(0, len(train_data) - 1, batch_size)):\n",
        "        data, targets = get_batch(train_data, i,batch_size)\n",
        "        optimizer.zero_grad()\n",
        "        output = model(data)        \n",
        "        #loss = criterion(output[-output_window:], targets[-output_window:])\n",
        "        loss = criterion(output, targets)\n",
        "        loss.backward()\n",
        "        torch.nn.utils.clip_grad_norm_(model.parameters(), 0.5)\n",
        "        optimizer.step()\n",
        "\n",
        "        total_loss += loss.item()\n",
        "        log_interval = int(len(train_data) / batch_size / 5)\n",
        "        if batch % log_interval == 0 and batch > 0:\n",
        "            cur_loss = total_loss / log_interval\n",
        "            elapsed = time.time() - start_time\n",
        "            print('| epoch {:3d} | {:5d}/{:5d} batches | '\n",
        "                  'lr {:02.6f} | {:5.2f} ms | '\n",
        "                  'loss {:5.5f} | ppl {:8.2f}'.format(\n",
        "                    epoch, batch, len(train_data) // batch_size, scheduler.get_lr()[0],\n",
        "                    elapsed * 1000 / log_interval,\n",
        "                    cur_loss, math.exp(cur_loss)))\n",
        "            total_loss = 0\n",
        "            start_time = time.time()"
      ],
      "execution_count": 10,
      "outputs": []
    },
    {
      "cell_type": "code",
      "metadata": {
        "id": "vfGHbKef12-w",
        "colab_type": "code",
        "colab": {}
      },
      "source": [
        "def plot_and_loss(eval_model, data_source,epoch):\n",
        "    eval_model.eval() \n",
        "    total_loss = 0.\n",
        "    test_result = torch.Tensor(0)    \n",
        "    truth = torch.Tensor(0)\n",
        "    with torch.no_grad():\n",
        "        for i in range(0, len(data_source) - 1):\n",
        "            data, target = get_batch(data_source, i,1)\n",
        "            # look like the model returns static values for the output window\n",
        "            output = eval_model(data)                    \n",
        "            #total_loss += criterion(output[-output_window:], target[-output_window:]).item()\n",
        "            total_loss += criterion(output, target).item()\n",
        "            test_result = torch.cat((test_result, output[-1].view(-1).cpu()), 0) #todo: check this. -> looks good to me\n",
        "            truth = torch.cat((truth, target[-1].view(-1).cpu()), 0)\n",
        "            \n",
        "    #test_result = test_result.cpu().numpy()\n",
        "    len(test_result)\n",
        "\n",
        "    pyplot.plot(test_result,color=\"red\")\n",
        "    pyplot.plot(truth[:500],color=\"blue\")\n",
        "    pyplot.plot(test_result-truth,color=\"green\")\n",
        "    pyplot.grid(True, which='both')\n",
        "    pyplot.axhline(y=0, color='k')\n",
        "    os.makedirs('graph',exist_ok=True)\n",
        "    pyplot.savefig('graph/transformer-epoch%d.png'%epoch)\n",
        "    pyplot.close()\n",
        "    \n",
        "    return total_loss / i"
      ],
      "execution_count": 11,
      "outputs": []
    },
    {
      "cell_type": "code",
      "metadata": {
        "id": "NoKwDMac2Hhs",
        "colab_type": "code",
        "colab": {}
      },
      "source": [
        "\n",
        "def predict_future(eval_model, data_source,steps):\n",
        "    eval_model.eval() \n",
        "    total_loss = 0.\n",
        "    test_result = torch.Tensor(0)    \n",
        "    truth = torch.Tensor(0)\n",
        "    _ , data = get_batch(data_source, 0,1)\n",
        "    with torch.no_grad():\n",
        "        for i in range(0, steps,1):\n",
        "            input = torch.clone(data[-input_window:])\n",
        "            input[-output_window:] = 0     \n",
        "            output = eval_model(data[-input_window:])                        \n",
        "            data = torch.cat((data, output[-1:]))\n",
        "            \n",
        "    data = data.cpu().view(-1)\n",
        "    \n",
        "\n",
        "    pyplot.plot(data,color=\"red\")       \n",
        "    pyplot.plot(data[:input_window],color=\"blue\")\n",
        "    pyplot.grid(True, which='both')\n",
        "    pyplot.axhline(y=0, color='k')\n",
        "    os.makedirs('graph',exist_ok=True)\n",
        "    pyplot.savefig('graph/transformer-future%d.png'%steps)\n",
        "    pyplot.close()"
      ],
      "execution_count": 12,
      "outputs": []
    },
    {
      "cell_type": "code",
      "metadata": {
        "id": "ZrBIkSAe2Sh4",
        "colab_type": "code",
        "colab": {}
      },
      "source": [
        "def evaluate(eval_model, data_source):\n",
        "    eval_model.eval() # Turn on the evaluation mode\n",
        "    total_loss = 0.\n",
        "    eval_batch_size = 1000\n",
        "    with torch.no_grad():\n",
        "        for i in range(0, len(data_source) - 1, eval_batch_size):\n",
        "            data, targets = get_batch(data_source, i,eval_batch_size)\n",
        "            output = eval_model(data)            \n",
        "            #total_loss += len(data[0])* criterion(output[-output_window:], targets[-output_window:]).cpu().item()\n",
        "            total_loss += len(data[0])* criterion(output, targets).cpu().item()\n",
        "    return total_loss / len(data_source)"
      ],
      "execution_count": 13,
      "outputs": []
    },
    {
      "cell_type": "code",
      "metadata": {
        "id": "uOK60WtX2bQ4",
        "colab_type": "code",
        "colab": {}
      },
      "source": [
        "train_data, val_data = get_data()"
      ],
      "execution_count": 14,
      "outputs": []
    },
    {
      "cell_type": "code",
      "metadata": {
        "id": "Cm28tiSC3QRq",
        "colab_type": "code",
        "colab": {
          "base_uri": "https://localhost:8080/",
          "height": 34
        },
        "outputId": "e4fb4edd-62bd-4cd2-f22c-3d1b557ee6a8"
      },
      "source": [
        "train_data.shape"
      ],
      "execution_count": 15,
      "outputs": [
        {
          "output_type": "execute_result",
          "data": {
            "text/plain": [
              "torch.Size([2695, 2, 100])"
            ]
          },
          "metadata": {
            "tags": []
          },
          "execution_count": 15
        }
      ]
    },
    {
      "cell_type": "code",
      "metadata": {
        "id": "XtjUOS5s3cry",
        "colab_type": "code",
        "colab": {}
      },
      "source": [
        "import matplotlib.pyplot as plt\n"
      ],
      "execution_count": 16,
      "outputs": []
    },
    {
      "cell_type": "code",
      "metadata": {
        "id": "HPriiN043hNp",
        "colab_type": "code",
        "colab": {
          "base_uri": "https://localhost:8080/",
          "height": 285
        },
        "outputId": "a7571a1f-5498-4e9c-94af-0e4e0093e4e4"
      },
      "source": [
        "plt.plot(train_data[0,0,:].cpu())\n",
        "plt.plot(train_data[0,1,:].cpu())"
      ],
      "execution_count": 17,
      "outputs": [
        {
          "output_type": "execute_result",
          "data": {
            "text/plain": [
              "[<matplotlib.lines.Line2D at 0x7fe2887a14a8>]"
            ]
          },
          "metadata": {
            "tags": []
          },
          "execution_count": 17
        },
        {
          "output_type": "display_data",
          "data": {
            "image/png": "[encoded data removed]",
            "text/plain": [
              "<Figure size 432x288 with 1 Axes>"
            ]
          },
          "metadata": {
            "tags": [],
            "needs_background": "light"
          }
        }
      ]
    },
    {
      "cell_type": "code",
      "metadata": {
        "id": "MDGzd8eZ5tRA",
        "colab_type": "code",
        "colab": {}
      },
      "source": [
        "model = TransAm().to(device)\n",
        "\n",
        "criterion = nn.MSELoss()\n",
        "lr = 0.005 \n",
        "#optimizer = torch.optim.SGD(model.parameters(), lr=lr)\n",
        "optimizer = torch.optim.AdamW(model.parameters(), lr=lr)\n",
        "scheduler = torch.optim.lr_scheduler.StepLR(optimizer, 1.0, gamma=0.98)\n",
        "\n",
        "best_val_loss = float(\"inf\")\n",
        "epochs = 100 # The number of epochs\n",
        "best_model = None"
      ],
      "execution_count": 18,
      "outputs": []
    },
    {
      "cell_type": "code",
      "metadata": {
        "id": "eNn6mY6X56ph",
        "colab_type": "code",
        "colab": {
          "base_uri": "https://localhost:8080/",
          "height": 1000
        },
        "outputId": "c782137c-f84e-49a5-a422-285fea76f12b"
      },
      "source": [
        "for epoch in range(1, epochs + 1):\n",
        "    epoch_start_time = time.time()\n",
        "    train(train_data)\n",
        "    \n",
        "    \n",
        "    if(epoch % 10 is 0):\n",
        "        val_loss = plot_and_loss(model, val_data,epoch)\n",
        "        predict_future(model, val_data,200)\n",
        "    else:\n",
        "        val_loss = evaluate(model, val_data)\n",
        "        \n",
        "    print('-' * 89)\n",
        "    print('| end of epoch {:3d} | time: {:5.2f}s | valid loss {:5.5f} | valid ppl {:8.2f}'.format(epoch, (time.time() - epoch_start_time),\n",
        "                                     val_loss, math.exp(val_loss)))\n",
        "    print('-' * 89)\n",
        "\n",
        "    #if val_loss < best_val_loss:\n",
        "    #    best_val_loss = val_loss\n",
        "    #    best_model = model\n",
        "\n",
        "    scheduler.step() "
      ],
      "execution_count": 19,
      "outputs": [
        {
          "output_type": "stream",
          "text": [
            "/usr/local/lib/python3.6/dist-packages/torch/optim/lr_scheduler.py:351: UserWarning: To get the last learning rate computed by the scheduler, please use `get_last_lr()`.\n",
            "  \"please use `get_last_lr()`.\", UserWarning)\n"
          ],
          "name": "stderr"
        },
        {
          "output_type": "stream",
          "text": [
            "| epoch   1 |    53/  269 batches | lr 0.005000 | 15.03 ms | loss 6.05257 | ppl   425.20\n",
            "| epoch   1 |   106/  269 batches | lr 0.005000 |  7.47 ms | loss 0.09276 | ppl     1.10\n",
            "| epoch   1 |   159/  269 batches | lr 0.005000 |  7.34 ms | loss 0.04333 | ppl     1.04\n",
            "| epoch   1 |   212/  269 batches | lr 0.005000 |  7.45 ms | loss 0.02570 | ppl     1.03\n",
            "| epoch   1 |   265/  269 batches | lr 0.005000 |  7.63 ms | loss 0.02294 | ppl     1.02\n",
            "-----------------------------------------------------------------------------------------\n",
            "| end of epoch   1 | time:  2.56s | valid loss 0.04575 | valid ppl     1.05\n",
            "-----------------------------------------------------------------------------------------\n",
            "| epoch   2 |    53/  269 batches | lr 0.004802 |  8.58 ms | loss 0.01866 | ppl     1.02\n",
            "| epoch   2 |   106/  269 batches | lr 0.004802 |  7.45 ms | loss 0.01336 | ppl     1.01\n",
            "| epoch   2 |   159/  269 batches | lr 0.004802 |  7.28 ms | loss 0.02526 | ppl     1.03\n",
            "| epoch   2 |   212/  269 batches | lr 0.004802 |  7.39 ms | loss 0.00935 | ppl     1.01\n",
            "| epoch   2 |   265/  269 batches | lr 0.004802 |  7.33 ms | loss 0.00679 | ppl     1.01\n",
            "-----------------------------------------------------------------------------------------\n",
            "| end of epoch   2 | time:  2.19s | valid loss 0.02303 | valid ppl     1.02\n",
            "-----------------------------------------------------------------------------------------\n",
            "| epoch   3 |    53/  269 batches | lr 0.004706 |  7.66 ms | loss 0.01280 | ppl     1.01\n",
            "| epoch   3 |   106/  269 batches | lr 0.004706 |  7.26 ms | loss 0.00775 | ppl     1.01\n",
            "| epoch   3 |   159/  269 batches | lr 0.004706 |  8.48 ms | loss 0.01310 | ppl     1.01\n",
            "| epoch   3 |   212/  269 batches | lr 0.004706 |  8.44 ms | loss 0.00763 | ppl     1.01\n",
            "| epoch   3 |   265/  269 batches | lr 0.004706 |  7.20 ms | loss 0.00591 | ppl     1.01\n",
            "-----------------------------------------------------------------------------------------\n",
            "| end of epoch   3 | time:  2.24s | valid loss 0.01923 | valid ppl     1.02\n",
            "-----------------------------------------------------------------------------------------\n",
            "| epoch   4 |    53/  269 batches | lr 0.004612 |  7.59 ms | loss 0.01053 | ppl     1.01\n",
            "| epoch   4 |   106/  269 batches | lr 0.004612 |  7.13 ms | loss 0.00591 | ppl     1.01\n",
            "| epoch   4 |   159/  269 batches | lr 0.004612 |  7.23 ms | loss 0.00721 | ppl     1.01\n",
            "| epoch   4 |   212/  269 batches | lr 0.004612 |  7.25 ms | loss 0.00649 | ppl     1.01\n",
            "| epoch   4 |   265/  269 batches | lr 0.004612 |  7.31 ms | loss 0.00563 | ppl     1.01\n",
            "-----------------------------------------------------------------------------------------\n",
            "| end of epoch   4 | time:  2.11s | valid loss 0.01597 | valid ppl     1.02\n",
            "-----------------------------------------------------------------------------------------\n",
            "| epoch   5 |    53/  269 batches | lr 0.004520 |  7.46 ms | loss 0.00336 | ppl     1.00\n",
            "| epoch   5 |   106/  269 batches | lr 0.004520 |  7.20 ms | loss 0.00394 | ppl     1.00\n",
            "| epoch   5 |   159/  269 batches | lr 0.004520 |  7.42 ms | loss 0.00317 | ppl     1.00\n",
            "| epoch   5 |   212/  269 batches | lr 0.004520 |  7.24 ms | loss 0.00277 | ppl     1.00\n",
            "| epoch   5 |   265/  269 batches | lr 0.004520 |  7.40 ms | loss 0.00276 | ppl     1.00\n",
            "-----------------------------------------------------------------------------------------\n",
            "| end of epoch   5 | time:  2.12s | valid loss 0.00707 | valid ppl     1.01\n",
            "-----------------------------------------------------------------------------------------\n",
            "| epoch   6 |    53/  269 batches | lr 0.004429 |  7.50 ms | loss 0.00431 | ppl     1.00\n",
            "| epoch   6 |   106/  269 batches | lr 0.004429 |  7.29 ms | loss 0.00505 | ppl     1.01\n",
            "| epoch   6 |   159/  269 batches | lr 0.004429 |  7.29 ms | loss 0.00767 | ppl     1.01\n",
            "| epoch   6 |   212/  269 batches | lr 0.004429 |  7.28 ms | loss 0.00694 | ppl     1.01\n",
            "| epoch   6 |   265/  269 batches | lr 0.004429 |  7.22 ms | loss 0.00361 | ppl     1.00\n",
            "-----------------------------------------------------------------------------------------\n",
            "| end of epoch   6 | time:  2.12s | valid loss 0.00833 | valid ppl     1.01\n",
            "-----------------------------------------------------------------------------------------\n",
            "| epoch   7 |    53/  269 batches | lr 0.004341 |  7.37 ms | loss 0.00305 | ppl     1.00\n",
            "| epoch   7 |   106/  269 batches | lr 0.004341 |  7.23 ms | loss 0.00334 | ppl     1.00\n",
            "| epoch   7 |   159/  269 batches | lr 0.004341 |  8.00 ms | loss 0.00407 | ppl     1.00\n",
            "| epoch   7 |   212/  269 batches | lr 0.004341 |  7.66 ms | loss 0.00420 | ppl     1.00\n",
            "| epoch   7 |   265/  269 batches | lr 0.004341 |  7.41 ms | loss 0.00318 | ppl     1.00\n",
            "-----------------------------------------------------------------------------------------\n",
            "| end of epoch   7 | time:  2.17s | valid loss 0.00627 | valid ppl     1.01\n",
            "-----------------------------------------------------------------------------------------\n",
            "| epoch   8 |    53/  269 batches | lr 0.004254 |  7.49 ms | loss 0.00252 | ppl     1.00\n",
            "| epoch   8 |   106/  269 batches | lr 0.004254 |  7.50 ms | loss 0.00242 | ppl     1.00\n",
            "| epoch   8 |   159/  269 batches | lr 0.004254 |  7.22 ms | loss 0.00231 | ppl     1.00\n",
            "| epoch   8 |   212/  269 batches | lr 0.004254 |  7.22 ms | loss 0.00223 | ppl     1.00\n",
            "| epoch   8 |   265/  269 batches | lr 0.004254 |  7.43 ms | loss 0.00198 | ppl     1.00\n",
            "-----------------------------------------------------------------------------------------\n",
            "| end of epoch   8 | time:  2.13s | valid loss 0.00442 | valid ppl     1.00\n",
            "-----------------------------------------------------------------------------------------\n",
            "| epoch   9 |    53/  269 batches | lr 0.004169 |  7.41 ms | loss 0.00206 | ppl     1.00\n",
            "| epoch   9 |   106/  269 batches | lr 0.004169 |  7.31 ms | loss 0.00195 | ppl     1.00\n",
            "| epoch   9 |   159/  269 batches | lr 0.004169 |  7.15 ms | loss 0.00357 | ppl     1.00\n",
            "| epoch   9 |   212/  269 batches | lr 0.004169 |  7.46 ms | loss 0.00358 | ppl     1.00\n",
            "| epoch   9 |   265/  269 batches | lr 0.004169 |  7.25 ms | loss 0.00261 | ppl     1.00\n",
            "-----------------------------------------------------------------------------------------\n",
            "| end of epoch   9 | time:  2.13s | valid loss 0.00709 | valid ppl     1.01\n",
            "-----------------------------------------------------------------------------------------\n",
            "| epoch  10 |    53/  269 batches | lr 0.004085 |  7.71 ms | loss 0.00194 | ppl     1.00\n",
            "| epoch  10 |   106/  269 batches | lr 0.004085 |  7.35 ms | loss 0.00347 | ppl     1.00\n",
            "| epoch  10 |   159/  269 batches | lr 0.004085 |  7.19 ms | loss 0.00351 | ppl     1.00\n",
            "| epoch  10 |   212/  269 batches | lr 0.004085 |  7.23 ms | loss 0.00356 | ppl     1.00\n",
            "| epoch  10 |   265/  269 batches | lr 0.004085 |  7.65 ms | loss 0.00212 | ppl     1.00\n",
            "-----------------------------------------------------------------------------------------\n",
            "| end of epoch  10 | time:  4.13s | valid loss 0.00612 | valid ppl     1.01\n",
            "-----------------------------------------------------------------------------------------\n"
          ],
          "name": "stdout"
        },
        {
          "output_type": "stream",
          "text": [
            "/usr/local/lib/python3.6/dist-packages/torch/optim/lr_scheduler.py:351: UserWarning: To get the last learning rate computed by the scheduler, please use `get_last_lr()`.\n",
            "  \"please use `get_last_lr()`.\", UserWarning)\n"
          ],
          "name": "stderr"
        },
        {
          "output_type": "stream",
          "text": [
            "| epoch  11 |    53/  269 batches | lr 0.004004 |  8.17 ms | loss 0.00247 | ppl     1.00\n",
            "| epoch  11 |   106/  269 batches | lr 0.004004 |  7.80 ms | loss 0.00212 | ppl     1.00\n",
            "| epoch  11 |   159/  269 batches | lr 0.004004 |  7.45 ms | loss 0.00241 | ppl     1.00\n",
            "| epoch  11 |   212/  269 batches | lr 0.004004 |  7.29 ms | loss 0.00249 | ppl     1.00\n",
            "| epoch  11 |   265/  269 batches | lr 0.004004 |  7.55 ms | loss 0.00178 | ppl     1.00\n",
            "-----------------------------------------------------------------------------------------\n",
            "| end of epoch  11 | time:  2.21s | valid loss 0.00564 | valid ppl     1.01\n",
            "-----------------------------------------------------------------------------------------\n",
            "| epoch  12 |    53/  269 batches | lr 0.003924 |  8.17 ms | loss 0.00209 | ppl     1.00\n",
            "| epoch  12 |   106/  269 batches | lr 0.003924 |  7.81 ms | loss 0.00216 | ppl     1.00\n",
            "| epoch  12 |   159/  269 batches | lr 0.003924 |  7.26 ms | loss 0.00243 | ppl     1.00\n",
            "| epoch  12 |   212/  269 batches | lr 0.003924 |  7.51 ms | loss 0.00183 | ppl     1.00\n",
            "| epoch  12 |   265/  269 batches | lr 0.003924 |  7.24 ms | loss 0.00183 | ppl     1.00\n",
            "-----------------------------------------------------------------------------------------\n",
            "| end of epoch  12 | time:  2.20s | valid loss 0.00516 | valid ppl     1.01\n",
            "-----------------------------------------------------------------------------------------\n",
            "| epoch  13 |    53/  269 batches | lr 0.003845 |  7.55 ms | loss 0.00271 | ppl     1.00\n",
            "| epoch  13 |   106/  269 batches | lr 0.003845 |  8.95 ms | loss 0.00413 | ppl     1.00\n",
            "| epoch  13 |   159/  269 batches | lr 0.003845 |  7.75 ms | loss 0.00301 | ppl     1.00\n",
            "| epoch  13 |   212/  269 batches | lr 0.003845 |  7.21 ms | loss 0.00397 | ppl     1.00\n",
            "| epoch  13 |   265/  269 batches | lr 0.003845 |  7.26 ms | loss 0.00212 | ppl     1.00\n",
            "-----------------------------------------------------------------------------------------\n",
            "| end of epoch  13 | time:  2.23s | valid loss 0.00575 | valid ppl     1.01\n",
            "-----------------------------------------------------------------------------------------\n",
            "| epoch  14 |    53/  269 batches | lr 0.003768 |  8.83 ms | loss 0.00191 | ppl     1.00\n",
            "| epoch  14 |   106/  269 batches | lr 0.003768 |  8.42 ms | loss 0.00151 | ppl     1.00\n",
            "| epoch  14 |   159/  269 batches | lr 0.003768 |  7.29 ms | loss 0.00249 | ppl     1.00\n",
            "| epoch  14 |   212/  269 batches | lr 0.003768 |  7.16 ms | loss 0.00210 | ppl     1.00\n",
            "| epoch  14 |   265/  269 batches | lr 0.003768 |  7.37 ms | loss 0.00203 | ppl     1.00\n",
            "-----------------------------------------------------------------------------------------\n",
            "| end of epoch  14 | time:  2.25s | valid loss 0.00395 | valid ppl     1.00\n",
            "-----------------------------------------------------------------------------------------\n",
            "| epoch  15 |    53/  269 batches | lr 0.003693 |  7.38 ms | loss 0.00242 | ppl     1.00\n",
            "| epoch  15 |   106/  269 batches | lr 0.003693 |  8.21 ms | loss 0.00245 | ppl     1.00\n",
            "| epoch  15 |   159/  269 batches | lr 0.003693 |  7.38 ms | loss 0.00313 | ppl     1.00\n",
            "| epoch  15 |   212/  269 batches | lr 0.003693 |  8.32 ms | loss 0.00439 | ppl     1.00\n",
            "| epoch  15 |   265/  269 batches | lr 0.003693 |  7.24 ms | loss 0.00191 | ppl     1.00\n",
            "-----------------------------------------------------------------------------------------\n",
            "| end of epoch  15 | time:  2.23s | valid loss 0.00363 | valid ppl     1.00\n",
            "-----------------------------------------------------------------------------------------\n",
            "| epoch  16 |    53/  269 batches | lr 0.003619 |  7.40 ms | loss 0.00183 | ppl     1.00\n",
            "| epoch  16 |   106/  269 batches | lr 0.003619 |  7.37 ms | loss 0.00244 | ppl     1.00\n",
            "| epoch  16 |   159/  269 batches | lr 0.003619 |  7.29 ms | loss 0.00246 | ppl     1.00\n",
            "| epoch  16 |   212/  269 batches | lr 0.003619 |  7.35 ms | loss 0.00233 | ppl     1.00\n",
            "| epoch  16 |   265/  269 batches | lr 0.003619 |  7.18 ms | loss 0.00178 | ppl     1.00\n",
            "-----------------------------------------------------------------------------------------\n",
            "| end of epoch  16 | time:  2.13s | valid loss 0.00421 | valid ppl     1.00\n",
            "-----------------------------------------------------------------------------------------\n",
            "| epoch  17 |    53/  269 batches | lr 0.003547 |  7.53 ms | loss 0.00200 | ppl     1.00\n",
            "| epoch  17 |   106/  269 batches | lr 0.003547 |  7.22 ms | loss 0.00150 | ppl     1.00\n",
            "| epoch  17 |   159/  269 batches | lr 0.003547 |  7.21 ms | loss 0.00185 | ppl     1.00\n",
            "| epoch  17 |   212/  269 batches | lr 0.003547 |  8.15 ms | loss 0.00170 | ppl     1.00\n",
            "| epoch  17 |   265/  269 batches | lr 0.003547 |  8.93 ms | loss 0.00160 | ppl     1.00\n",
            "-----------------------------------------------------------------------------------------\n",
            "| end of epoch  17 | time:  2.26s | valid loss 0.00326 | valid ppl     1.00\n",
            "-----------------------------------------------------------------------------------------\n",
            "| epoch  18 |    53/  269 batches | lr 0.003476 |  8.74 ms | loss 0.00178 | ppl     1.00\n",
            "| epoch  18 |   106/  269 batches | lr 0.003476 |  7.17 ms | loss 0.00238 | ppl     1.00\n",
            "| epoch  18 |   159/  269 batches | lr 0.003476 |  7.47 ms | loss 0.00319 | ppl     1.00\n",
            "| epoch  18 |   212/  269 batches | lr 0.003476 |  7.88 ms | loss 0.00331 | ppl     1.00\n",
            "| epoch  18 |   265/  269 batches | lr 0.003476 |  7.33 ms | loss 0.00191 | ppl     1.00\n",
            "-----------------------------------------------------------------------------------------\n",
            "| end of epoch  18 | time:  2.24s | valid loss 0.00362 | valid ppl     1.00\n",
            "-----------------------------------------------------------------------------------------\n",
            "| epoch  19 |    53/  269 batches | lr 0.003406 |  7.45 ms | loss 0.00208 | ppl     1.00\n",
            "| epoch  19 |   106/  269 batches | lr 0.003406 |  7.24 ms | loss 0.00182 | ppl     1.00\n",
            "| epoch  19 |   159/  269 batches | lr 0.003406 |  7.46 ms | loss 0.00185 | ppl     1.00\n",
            "| epoch  19 |   212/  269 batches | lr 0.003406 |  7.22 ms | loss 0.00134 | ppl     1.00\n",
            "| epoch  19 |   265/  269 batches | lr 0.003406 |  8.13 ms | loss 0.00146 | ppl     1.00\n",
            "-----------------------------------------------------------------------------------------\n",
            "| end of epoch  19 | time:  2.18s | valid loss 0.00205 | valid ppl     1.00\n",
            "-----------------------------------------------------------------------------------------\n",
            "| epoch  20 |    53/  269 batches | lr 0.003338 |  7.55 ms | loss 0.00148 | ppl     1.00\n",
            "| epoch  20 |   106/  269 batches | lr 0.003338 |  7.28 ms | loss 0.00142 | ppl     1.00\n",
            "| epoch  20 |   159/  269 batches | lr 0.003338 |  7.43 ms | loss 0.00201 | ppl     1.00\n",
            "| epoch  20 |   212/  269 batches | lr 0.003338 |  7.20 ms | loss 0.00244 | ppl     1.00\n",
            "| epoch  20 |   265/  269 batches | lr 0.003338 |  7.32 ms | loss 0.00180 | ppl     1.00\n",
            "-----------------------------------------------------------------------------------------\n",
            "| end of epoch  20 | time:  4.16s | valid loss 0.00349 | valid ppl     1.00\n",
            "-----------------------------------------------------------------------------------------\n"
          ],
          "name": "stdout"
        },
        {
          "output_type": "stream",
          "text": [
            "/usr/local/lib/python3.6/dist-packages/torch/optim/lr_scheduler.py:351: UserWarning: To get the last learning rate computed by the scheduler, please use `get_last_lr()`.\n",
            "  \"please use `get_last_lr()`.\", UserWarning)\n"
          ],
          "name": "stderr"
        },
        {
          "output_type": "stream",
          "text": [
            "| epoch  21 |    53/  269 batches | lr 0.003271 |  8.08 ms | loss 0.00149 | ppl     1.00\n",
            "| epoch  21 |   106/  269 batches | lr 0.003271 |  8.10 ms | loss 0.00138 | ppl     1.00\n",
            "| epoch  21 |   159/  269 batches | lr 0.003271 |  7.19 ms | loss 0.00149 | ppl     1.00\n",
            "| epoch  21 |   212/  269 batches | lr 0.003271 |  7.26 ms | loss 0.00164 | ppl     1.00\n",
            "| epoch  21 |   265/  269 batches | lr 0.003271 |  7.62 ms | loss 0.00155 | ppl     1.00\n",
            "-----------------------------------------------------------------------------------------\n",
            "| end of epoch  21 | time:  2.21s | valid loss 0.00297 | valid ppl     1.00\n",
            "-----------------------------------------------------------------------------------------\n",
            "| epoch  22 |    53/  269 batches | lr 0.003206 |  7.51 ms | loss 0.00183 | ppl     1.00\n",
            "| epoch  22 |   106/  269 batches | lr 0.003206 |  7.94 ms | loss 0.00230 | ppl     1.00\n",
            "| epoch  22 |   159/  269 batches | lr 0.003206 |  7.19 ms | loss 0.00212 | ppl     1.00\n",
            "| epoch  22 |   212/  269 batches | lr 0.003206 |  7.34 ms | loss 0.00280 | ppl     1.00\n",
            "| epoch  22 |   265/  269 batches | lr 0.003206 |  7.20 ms | loss 0.00135 | ppl     1.00\n",
            "-----------------------------------------------------------------------------------------\n",
            "| end of epoch  22 | time:  2.15s | valid loss 0.00441 | valid ppl     1.00\n",
            "-----------------------------------------------------------------------------------------\n",
            "| epoch  23 |    53/  269 batches | lr 0.003142 |  7.62 ms | loss 0.00147 | ppl     1.00\n",
            "| epoch  23 |   106/  269 batches | lr 0.003142 |  7.23 ms | loss 0.00118 | ppl     1.00\n",
            "| epoch  23 |   159/  269 batches | lr 0.003142 |  7.86 ms | loss 0.00143 | ppl     1.00\n",
            "| epoch  23 |   212/  269 batches | lr 0.003142 |  8.36 ms | loss 0.00258 | ppl     1.00\n",
            "| epoch  23 |   265/  269 batches | lr 0.003142 |  7.59 ms | loss 0.00254 | ppl     1.00\n",
            "-----------------------------------------------------------------------------------------\n",
            "| end of epoch  23 | time:  2.25s | valid loss 0.00520 | valid ppl     1.01\n",
            "-----------------------------------------------------------------------------------------\n",
            "| epoch  24 |    53/  269 batches | lr 0.003079 |  9.85 ms | loss 0.00141 | ppl     1.00\n",
            "| epoch  24 |   106/  269 batches | lr 0.003079 |  8.00 ms | loss 0.00133 | ppl     1.00\n",
            "| epoch  24 |   159/  269 batches | lr 0.003079 |  8.05 ms | loss 0.00123 | ppl     1.00\n",
            "| epoch  24 |   212/  269 batches | lr 0.003079 |  8.41 ms | loss 0.00130 | ppl     1.00\n",
            "| epoch  24 |   265/  269 batches | lr 0.003079 |  7.43 ms | loss 0.00147 | ppl     1.00\n",
            "-----------------------------------------------------------------------------------------\n",
            "| end of epoch  24 | time:  2.41s | valid loss 0.00265 | valid ppl     1.00\n",
            "-----------------------------------------------------------------------------------------\n",
            "| epoch  25 |    53/  269 batches | lr 0.003017 |  7.63 ms | loss 0.00173 | ppl     1.00\n",
            "| epoch  25 |   106/  269 batches | lr 0.003017 |  7.64 ms | loss 0.00167 | ppl     1.00\n",
            "| epoch  25 |   159/  269 batches | lr 0.003017 |  7.43 ms | loss 0.00178 | ppl     1.00\n",
            "| epoch  25 |   212/  269 batches | lr 0.003017 |  7.99 ms | loss 0.00241 | ppl     1.00\n",
            "| epoch  25 |   265/  269 batches | lr 0.003017 |  7.67 ms | loss 0.00157 | ppl     1.00\n",
            "-----------------------------------------------------------------------------------------\n",
            "| end of epoch  25 | time:  2.22s | valid loss 0.00446 | valid ppl     1.00\n",
            "-----------------------------------------------------------------------------------------\n",
            "| epoch  26 |    53/  269 batches | lr 0.002957 |  7.61 ms | loss 0.00135 | ppl     1.00\n",
            "| epoch  26 |   106/  269 batches | lr 0.002957 |  7.63 ms | loss 0.00113 | ppl     1.00\n",
            "| epoch  26 |   159/  269 batches | lr 0.002957 |  7.38 ms | loss 0.00122 | ppl     1.00\n",
            "| epoch  26 |   212/  269 batches | lr 0.002957 |  8.24 ms | loss 0.00128 | ppl     1.00\n",
            "| epoch  26 |   265/  269 batches | lr 0.002957 |  7.45 ms | loss 0.00145 | ppl     1.00\n",
            "-----------------------------------------------------------------------------------------\n",
            "| end of epoch  26 | time:  2.23s | valid loss 0.00223 | valid ppl     1.00\n",
            "-----------------------------------------------------------------------------------------\n",
            "| epoch  27 |    53/  269 batches | lr 0.002898 |  7.76 ms | loss 0.00157 | ppl     1.00\n",
            "| epoch  27 |   106/  269 batches | lr 0.002898 |  7.49 ms | loss 0.00124 | ppl     1.00\n",
            "| epoch  27 |   159/  269 batches | lr 0.002898 |  7.59 ms | loss 0.00134 | ppl     1.00\n",
            "| epoch  27 |   212/  269 batches | lr 0.002898 |  7.63 ms | loss 0.00120 | ppl     1.00\n",
            "| epoch  27 |   265/  269 batches | lr 0.002898 |  7.47 ms | loss 0.00119 | ppl     1.00\n",
            "-----------------------------------------------------------------------------------------\n",
            "| end of epoch  27 | time:  2.20s | valid loss 0.00255 | valid ppl     1.00\n",
            "-----------------------------------------------------------------------------------------\n",
            "| epoch  28 |    53/  269 batches | lr 0.002840 |  9.20 ms | loss 0.00122 | ppl     1.00\n",
            "| epoch  28 |   106/  269 batches | lr 0.002840 |  7.77 ms | loss 0.00119 | ppl     1.00\n",
            "| epoch  28 |   159/  269 batches | lr 0.002840 |  8.03 ms | loss 0.00118 | ppl     1.00\n",
            "| epoch  28 |   212/  269 batches | lr 0.002840 |  7.41 ms | loss 0.00154 | ppl     1.00\n",
            "| epoch  28 |   265/  269 batches | lr 0.002840 |  7.40 ms | loss 0.00115 | ppl     1.00\n",
            "-----------------------------------------------------------------------------------------\n",
            "| end of epoch  28 | time:  2.31s | valid loss 0.00362 | valid ppl     1.00\n",
            "-----------------------------------------------------------------------------------------\n",
            "| epoch  29 |    53/  269 batches | lr 0.002783 |  7.63 ms | loss 0.00107 | ppl     1.00\n",
            "| epoch  29 |   106/  269 batches | lr 0.002783 |  7.26 ms | loss 0.00098 | ppl     1.00\n",
            "| epoch  29 |   159/  269 batches | lr 0.002783 |  7.45 ms | loss 0.00132 | ppl     1.00\n",
            "| epoch  29 |   212/  269 batches | lr 0.002783 |  7.22 ms | loss 0.00143 | ppl     1.00\n",
            "| epoch  29 |   265/  269 batches | lr 0.002783 |  7.37 ms | loss 0.00120 | ppl     1.00\n",
            "-----------------------------------------------------------------------------------------\n",
            "| end of epoch  29 | time:  2.15s | valid loss 0.00322 | valid ppl     1.00\n",
            "-----------------------------------------------------------------------------------------\n",
            "| epoch  30 |    53/  269 batches | lr 0.002727 |  7.54 ms | loss 0.00102 | ppl     1.00\n",
            "| epoch  30 |   106/  269 batches | lr 0.002727 |  7.20 ms | loss 0.00163 | ppl     1.00\n",
            "| epoch  30 |   159/  269 batches | lr 0.002727 |  7.34 ms | loss 0.00188 | ppl     1.00\n",
            "| epoch  30 |   212/  269 batches | lr 0.002727 |  7.42 ms | loss 0.00188 | ppl     1.00\n",
            "| epoch  30 |   265/  269 batches | lr 0.002727 |  7.27 ms | loss 0.00105 | ppl     1.00\n",
            "-----------------------------------------------------------------------------------------\n",
            "| end of epoch  30 | time:  4.09s | valid loss 0.00220 | valid ppl     1.00\n",
            "-----------------------------------------------------------------------------------------\n"
          ],
          "name": "stdout"
        },
        {
          "output_type": "stream",
          "text": [
            "/usr/local/lib/python3.6/dist-packages/torch/optim/lr_scheduler.py:351: UserWarning: To get the last learning rate computed by the scheduler, please use `get_last_lr()`.\n",
            "  \"please use `get_last_lr()`.\", UserWarning)\n"
          ],
          "name": "stderr"
        },
        {
          "output_type": "stream",
          "text": [
            "| epoch  31 |    53/  269 batches | lr 0.002673 |  9.82 ms | loss 0.00103 | ppl     1.00\n",
            "| epoch  31 |   106/  269 batches | lr 0.002673 |  9.00 ms | loss 0.00100 | ppl     1.00\n",
            "| epoch  31 |   159/  269 batches | lr 0.002673 |  8.83 ms | loss 0.00102 | ppl     1.00\n",
            "| epoch  31 |   212/  269 batches | lr 0.002673 |  8.33 ms | loss 0.00088 | ppl     1.00\n",
            "| epoch  31 |   265/  269 batches | lr 0.002673 |  8.90 ms | loss 0.00082 | ppl     1.00\n",
            "-----------------------------------------------------------------------------------------\n",
            "| end of epoch  31 | time:  2.58s | valid loss 0.00135 | valid ppl     1.00\n",
            "-----------------------------------------------------------------------------------------\n",
            "| epoch  32 |    53/  269 batches | lr 0.002619 |  7.85 ms | loss 0.00111 | ppl     1.00\n",
            "| epoch  32 |   106/  269 batches | lr 0.002619 |  7.23 ms | loss 0.00113 | ppl     1.00\n",
            "| epoch  32 |   159/  269 batches | lr 0.002619 |  7.64 ms | loss 0.00111 | ppl     1.00\n",
            "| epoch  32 |   212/  269 batches | lr 0.002619 |  7.37 ms | loss 0.00086 | ppl     1.00\n",
            "| epoch  32 |   265/  269 batches | lr 0.002619 |  7.21 ms | loss 0.00086 | ppl     1.00\n",
            "-----------------------------------------------------------------------------------------\n",
            "| end of epoch  32 | time:  2.18s | valid loss 0.00130 | valid ppl     1.00\n",
            "-----------------------------------------------------------------------------------------\n",
            "| epoch  33 |    53/  269 batches | lr 0.002567 |  7.76 ms | loss 0.00363 | ppl     1.00\n",
            "| epoch  33 |   106/  269 batches | lr 0.002567 |  7.95 ms | loss 0.00250 | ppl     1.00\n",
            "| epoch  33 |   159/  269 batches | lr 0.002567 |  9.18 ms | loss 0.00130 | ppl     1.00\n",
            "| epoch  33 |   212/  269 batches | lr 0.002567 |  7.48 ms | loss 0.00086 | ppl     1.00\n",
            "| epoch  33 |   265/  269 batches | lr 0.002567 |  7.76 ms | loss 0.00090 | ppl     1.00\n",
            "-----------------------------------------------------------------------------------------\n",
            "| end of epoch  33 | time:  2.32s | valid loss 0.00122 | valid ppl     1.00\n",
            "-----------------------------------------------------------------------------------------\n",
            "| epoch  34 |    53/  269 batches | lr 0.002516 |  7.54 ms | loss 0.00112 | ppl     1.00\n",
            "| epoch  34 |   106/  269 batches | lr 0.002516 |  7.35 ms | loss 0.00089 | ppl     1.00\n",
            "| epoch  34 |   159/  269 batches | lr 0.002516 |  7.33 ms | loss 0.00102 | ppl     1.00\n",
            "| epoch  34 |   212/  269 batches | lr 0.002516 |  7.48 ms | loss 0.00168 | ppl     1.00\n",
            "| epoch  34 |   265/  269 batches | lr 0.002516 |  7.30 ms | loss 0.00085 | ppl     1.00\n",
            "-----------------------------------------------------------------------------------------\n",
            "| end of epoch  34 | time:  2.16s | valid loss 0.00196 | valid ppl     1.00\n",
            "-----------------------------------------------------------------------------------------\n",
            "| epoch  35 |    53/  269 batches | lr 0.002465 |  7.59 ms | loss 0.00098 | ppl     1.00\n",
            "| epoch  35 |   106/  269 batches | lr 0.002465 |  7.30 ms | loss 0.00084 | ppl     1.00\n",
            "| epoch  35 |   159/  269 batches | lr 0.002465 |  7.49 ms | loss 0.00091 | ppl     1.00\n",
            "| epoch  35 |   212/  269 batches | lr 0.002465 |  7.82 ms | loss 0.00106 | ppl     1.00\n",
            "| epoch  35 |   265/  269 batches | lr 0.002465 |  7.45 ms | loss 0.00081 | ppl     1.00\n",
            "-----------------------------------------------------------------------------------------\n",
            "| end of epoch  35 | time:  2.20s | valid loss 0.00199 | valid ppl     1.00\n",
            "-----------------------------------------------------------------------------------------\n",
            "| epoch  36 |    53/  269 batches | lr 0.002416 |  7.54 ms | loss 0.00206 | ppl     1.00\n",
            "| epoch  36 |   106/  269 batches | lr 0.002416 |  7.38 ms | loss 0.00117 | ppl     1.00\n",
            "| epoch  36 |   159/  269 batches | lr 0.002416 |  8.08 ms | loss 0.00100 | ppl     1.00\n",
            "| epoch  36 |   212/  269 batches | lr 0.002416 |  7.26 ms | loss 0.00098 | ppl     1.00\n",
            "| epoch  36 |   265/  269 batches | lr 0.002416 |  7.33 ms | loss 0.00071 | ppl     1.00\n",
            "-----------------------------------------------------------------------------------------\n",
            "| end of epoch  36 | time:  2.19s | valid loss 0.00087 | valid ppl     1.00\n",
            "-----------------------------------------------------------------------------------------\n",
            "| epoch  37 |    53/  269 batches | lr 0.002368 |  7.57 ms | loss 0.00083 | ppl     1.00\n",
            "| epoch  37 |   106/  269 batches | lr 0.002368 |  7.30 ms | loss 0.00094 | ppl     1.00\n",
            "| epoch  37 |   159/  269 batches | lr 0.002368 |  7.38 ms | loss 0.00088 | ppl     1.00\n",
            "| epoch  37 |   212/  269 batches | lr 0.002368 |  7.40 ms | loss 0.00092 | ppl     1.00\n",
            "| epoch  37 |   265/  269 batches | lr 0.002368 |  7.46 ms | loss 0.00080 | ppl     1.00\n",
            "-----------------------------------------------------------------------------------------\n",
            "| end of epoch  37 | time:  2.17s | valid loss 0.00101 | valid ppl     1.00\n",
            "-----------------------------------------------------------------------------------------\n",
            "| epoch  38 |    53/  269 batches | lr 0.002320 |  8.57 ms | loss 0.00083 | ppl     1.00\n",
            "| epoch  38 |   106/  269 batches | lr 0.002320 |  7.89 ms | loss 0.00073 | ppl     1.00\n",
            "| epoch  38 |   159/  269 batches | lr 0.002320 |  7.31 ms | loss 0.00071 | ppl     1.00\n",
            "| epoch  38 |   212/  269 batches | lr 0.002320 |  8.18 ms | loss 0.00085 | ppl     1.00\n",
            "| epoch  38 |   265/  269 batches | lr 0.002320 |  8.86 ms | loss 0.00078 | ppl     1.00\n",
            "-----------------------------------------------------------------------------------------\n",
            "| end of epoch  38 | time:  2.37s | valid loss 0.00080 | valid ppl     1.00\n",
            "-----------------------------------------------------------------------------------------\n",
            "| epoch  39 |    53/  269 batches | lr 0.002274 |  8.95 ms | loss 0.00076 | ppl     1.00\n",
            "| epoch  39 |   106/  269 batches | lr 0.002274 |  7.41 ms | loss 0.00070 | ppl     1.00\n",
            "| epoch  39 |   159/  269 batches | lr 0.002274 |  7.24 ms | loss 0.00083 | ppl     1.00\n",
            "| epoch  39 |   212/  269 batches | lr 0.002274 |  7.25 ms | loss 0.00097 | ppl     1.00\n",
            "| epoch  39 |   265/  269 batches | lr 0.002274 |  7.30 ms | loss 0.00089 | ppl     1.00\n",
            "-----------------------------------------------------------------------------------------\n",
            "| end of epoch  39 | time:  2.22s | valid loss 0.00121 | valid ppl     1.00\n",
            "-----------------------------------------------------------------------------------------\n",
            "| epoch  40 |    53/  269 batches | lr 0.002229 |  7.48 ms | loss 0.00086 | ppl     1.00\n",
            "| epoch  40 |   106/  269 batches | lr 0.002229 |  7.16 ms | loss 0.00076 | ppl     1.00\n",
            "| epoch  40 |   159/  269 batches | lr 0.002229 |  7.30 ms | loss 0.00073 | ppl     1.00\n",
            "| epoch  40 |   212/  269 batches | lr 0.002229 |  7.14 ms | loss 0.00065 | ppl     1.00\n",
            "| epoch  40 |   265/  269 batches | lr 0.002229 |  8.30 ms | loss 0.00073 | ppl     1.00\n",
            "-----------------------------------------------------------------------------------------\n",
            "| end of epoch  40 | time:  4.13s | valid loss 0.00087 | valid ppl     1.00\n",
            "-----------------------------------------------------------------------------------------\n"
          ],
          "name": "stdout"
        },
        {
          "output_type": "stream",
          "text": [
            "/usr/local/lib/python3.6/dist-packages/torch/optim/lr_scheduler.py:351: UserWarning: To get the last learning rate computed by the scheduler, please use `get_last_lr()`.\n",
            "  \"please use `get_last_lr()`.\", UserWarning)\n"
          ],
          "name": "stderr"
        },
        {
          "output_type": "stream",
          "text": [
            "| epoch  41 |    53/  269 batches | lr 0.002184 |  8.15 ms | loss 0.00080 | ppl     1.00\n",
            "| epoch  41 |   106/  269 batches | lr 0.002184 |  7.25 ms | loss 0.00083 | ppl     1.00\n",
            "| epoch  41 |   159/  269 batches | lr 0.002184 |  8.07 ms | loss 0.00110 | ppl     1.00\n",
            "| epoch  41 |   212/  269 batches | lr 0.002184 |  8.27 ms | loss 0.00111 | ppl     1.00\n",
            "| epoch  41 |   265/  269 batches | lr 0.002184 |  7.21 ms | loss 0.00090 | ppl     1.00\n",
            "-----------------------------------------------------------------------------------------\n",
            "| end of epoch  41 | time:  2.26s | valid loss 0.00080 | valid ppl     1.00\n",
            "-----------------------------------------------------------------------------------------\n",
            "| epoch  42 |    53/  269 batches | lr 0.002140 |  7.49 ms | loss 0.00089 | ppl     1.00\n",
            "| epoch  42 |   106/  269 batches | lr 0.002140 |  7.10 ms | loss 0.00080 | ppl     1.00\n",
            "| epoch  42 |   159/  269 batches | lr 0.002140 |  7.16 ms | loss 0.00079 | ppl     1.00\n",
            "| epoch  42 |   212/  269 batches | lr 0.002140 |  8.52 ms | loss 0.00079 | ppl     1.00\n",
            "| epoch  42 |   265/  269 batches | lr 0.002140 |  7.91 ms | loss 0.00070 | ppl     1.00\n",
            "-----------------------------------------------------------------------------------------\n",
            "| end of epoch  42 | time:  2.22s | valid loss 0.00092 | valid ppl     1.00\n",
            "-----------------------------------------------------------------------------------------\n",
            "| epoch  43 |    53/  269 batches | lr 0.002097 |  7.60 ms | loss 0.00085 | ppl     1.00\n",
            "| epoch  43 |   106/  269 batches | lr 0.002097 |  7.29 ms | loss 0.00078 | ppl     1.00\n",
            "| epoch  43 |   159/  269 batches | lr 0.002097 |  7.27 ms | loss 0.00075 | ppl     1.00\n",
            "| epoch  43 |   212/  269 batches | lr 0.002097 |  8.40 ms | loss 0.00071 | ppl     1.00\n",
            "| epoch  43 |   265/  269 batches | lr 0.002097 |  7.26 ms | loss 0.00066 | ppl     1.00\n",
            "-----------------------------------------------------------------------------------------\n",
            "| end of epoch  43 | time:  2.20s | valid loss 0.00083 | valid ppl     1.00\n",
            "-----------------------------------------------------------------------------------------\n",
            "| epoch  44 |    53/  269 batches | lr 0.002055 |  7.54 ms | loss 0.00071 | ppl     1.00\n",
            "| epoch  44 |   106/  269 batches | lr 0.002055 |  7.17 ms | loss 0.00068 | ppl     1.00\n",
            "| epoch  44 |   159/  269 batches | lr 0.002055 |  7.23 ms | loss 0.00076 | ppl     1.00\n",
            "| epoch  44 |   212/  269 batches | lr 0.002055 |  8.41 ms | loss 0.00077 | ppl     1.00\n",
            "| epoch  44 |   265/  269 batches | lr 0.002055 |  9.50 ms | loss 0.00065 | ppl     1.00\n",
            "-----------------------------------------------------------------------------------------\n",
            "| end of epoch  44 | time:  2.31s | valid loss 0.00123 | valid ppl     1.00\n",
            "-----------------------------------------------------------------------------------------\n",
            "| epoch  45 |    53/  269 batches | lr 0.002014 |  7.72 ms | loss 0.00070 | ppl     1.00\n",
            "| epoch  45 |   106/  269 batches | lr 0.002014 |  7.28 ms | loss 0.00083 | ppl     1.00\n",
            "| epoch  45 |   159/  269 batches | lr 0.002014 |  8.16 ms | loss 0.00114 | ppl     1.00\n",
            "| epoch  45 |   212/  269 batches | lr 0.002014 |  7.13 ms | loss 0.00137 | ppl     1.00\n",
            "| epoch  45 |   265/  269 batches | lr 0.002014 |  7.30 ms | loss 0.00106 | ppl     1.00\n",
            "-----------------------------------------------------------------------------------------\n",
            "| end of epoch  45 | time:  2.18s | valid loss 0.00085 | valid ppl     1.00\n",
            "-----------------------------------------------------------------------------------------\n",
            "| epoch  46 |    53/  269 batches | lr 0.001974 |  7.38 ms | loss 0.00077 | ppl     1.00\n",
            "| epoch  46 |   106/  269 batches | lr 0.001974 |  7.20 ms | loss 0.00065 | ppl     1.00\n",
            "| epoch  46 |   159/  269 batches | lr 0.001974 |  7.34 ms | loss 0.00072 | ppl     1.00\n",
            "| epoch  46 |   212/  269 batches | lr 0.001974 |  7.35 ms | loss 0.00068 | ppl     1.00\n",
            "| epoch  46 |   265/  269 batches | lr 0.001974 |  7.26 ms | loss 0.00067 | ppl     1.00\n",
            "-----------------------------------------------------------------------------------------\n",
            "| end of epoch  46 | time:  2.14s | valid loss 0.00079 | valid ppl     1.00\n",
            "-----------------------------------------------------------------------------------------\n",
            "| epoch  47 |    53/  269 batches | lr 0.001935 |  7.65 ms | loss 0.00083 | ppl     1.00\n",
            "| epoch  47 |   106/  269 batches | lr 0.001935 |  7.13 ms | loss 0.00080 | ppl     1.00\n",
            "| epoch  47 |   159/  269 batches | lr 0.001935 |  7.24 ms | loss 0.00070 | ppl     1.00\n",
            "| epoch  47 |   212/  269 batches | lr 0.001935 |  7.28 ms | loss 0.00068 | ppl     1.00\n",
            "| epoch  47 |   265/  269 batches | lr 0.001935 |  7.62 ms | loss 0.00067 | ppl     1.00\n",
            "-----------------------------------------------------------------------------------------\n",
            "| end of epoch  47 | time:  2.16s | valid loss 0.00080 | valid ppl     1.00\n",
            "-----------------------------------------------------------------------------------------\n",
            "| epoch  48 |    53/  269 batches | lr 0.001896 |  7.65 ms | loss 0.00077 | ppl     1.00\n",
            "| epoch  48 |   106/  269 batches | lr 0.001896 |  7.43 ms | loss 0.00065 | ppl     1.00\n",
            "| epoch  48 |   159/  269 batches | lr 0.001896 |  7.38 ms | loss 0.00068 | ppl     1.00\n",
            "| epoch  48 |   212/  269 batches | lr 0.001896 |  7.39 ms | loss 0.00075 | ppl     1.00\n",
            "| epoch  48 |   265/  269 batches | lr 0.001896 |  7.22 ms | loss 0.00065 | ppl     1.00\n",
            "-----------------------------------------------------------------------------------------\n",
            "| end of epoch  48 | time:  2.16s | valid loss 0.00131 | valid ppl     1.00\n",
            "-----------------------------------------------------------------------------------------\n",
            "| epoch  49 |    53/  269 batches | lr 0.001858 |  7.60 ms | loss 0.00073 | ppl     1.00\n",
            "| epoch  49 |   106/  269 batches | lr 0.001858 |  8.54 ms | loss 0.00067 | ppl     1.00\n",
            "| epoch  49 |   159/  269 batches | lr 0.001858 |  8.71 ms | loss 0.00071 | ppl     1.00\n",
            "| epoch  49 |   212/  269 batches | lr 0.001858 |  7.16 ms | loss 0.00068 | ppl     1.00\n",
            "| epoch  49 |   265/  269 batches | lr 0.001858 |  7.08 ms | loss 0.00066 | ppl     1.00\n",
            "-----------------------------------------------------------------------------------------\n",
            "| end of epoch  49 | time:  2.26s | valid loss 0.00083 | valid ppl     1.00\n",
            "-----------------------------------------------------------------------------------------\n",
            "| epoch  50 |    53/  269 batches | lr 0.001821 |  7.41 ms | loss 0.00106 | ppl     1.00\n",
            "| epoch  50 |   106/  269 batches | lr 0.001821 |  7.68 ms | loss 0.00087 | ppl     1.00\n",
            "| epoch  50 |   159/  269 batches | lr 0.001821 |  7.46 ms | loss 0.00091 | ppl     1.00\n",
            "| epoch  50 |   212/  269 batches | lr 0.001821 |  7.27 ms | loss 0.00100 | ppl     1.00\n",
            "| epoch  50 |   265/  269 batches | lr 0.001821 |  7.26 ms | loss 0.00069 | ppl     1.00\n",
            "-----------------------------------------------------------------------------------------\n",
            "| end of epoch  50 | time:  4.08s | valid loss 0.00069 | valid ppl     1.00\n",
            "-----------------------------------------------------------------------------------------\n"
          ],
          "name": "stdout"
        },
        {
          "output_type": "stream",
          "text": [
            "/usr/local/lib/python3.6/dist-packages/torch/optim/lr_scheduler.py:351: UserWarning: To get the last learning rate computed by the scheduler, please use `get_last_lr()`.\n",
            "  \"please use `get_last_lr()`.\", UserWarning)\n"
          ],
          "name": "stderr"
        },
        {
          "output_type": "stream",
          "text": [
            "| epoch  51 |    53/  269 batches | lr 0.001784 |  8.94 ms | loss 0.00067 | ppl     1.00\n",
            "| epoch  51 |   106/  269 batches | lr 0.001784 |  7.95 ms | loss 0.00063 | ppl     1.00\n",
            "| epoch  51 |   159/  269 batches | lr 0.001784 |  8.80 ms | loss 0.00063 | ppl     1.00\n",
            "| epoch  51 |   212/  269 batches | lr 0.001784 |  8.97 ms | loss 0.00070 | ppl     1.00\n",
            "| epoch  51 |   265/  269 batches | lr 0.001784 |  7.62 ms | loss 0.00068 | ppl     1.00\n",
            "-----------------------------------------------------------------------------------------\n",
            "| end of epoch  51 | time:  2.44s | valid loss 0.00067 | valid ppl     1.00\n",
            "-----------------------------------------------------------------------------------------\n",
            "| epoch  52 |    53/  269 batches | lr 0.001749 |  7.54 ms | loss 0.00069 | ppl     1.00\n",
            "| epoch  52 |   106/  269 batches | lr 0.001749 |  7.23 ms | loss 0.00059 | ppl     1.00\n",
            "| epoch  52 |   159/  269 batches | lr 0.001749 |  7.23 ms | loss 0.00065 | ppl     1.00\n",
            "| epoch  52 |   212/  269 batches | lr 0.001749 |  7.19 ms | loss 0.00066 | ppl     1.00\n",
            "| epoch  52 |   265/  269 batches | lr 0.001749 |  7.31 ms | loss 0.00066 | ppl     1.00\n",
            "-----------------------------------------------------------------------------------------\n",
            "| end of epoch  52 | time:  2.12s | valid loss 0.00094 | valid ppl     1.00\n",
            "-----------------------------------------------------------------------------------------\n",
            "| epoch  53 |    53/  269 batches | lr 0.001714 |  7.68 ms | loss 0.00073 | ppl     1.00\n",
            "| epoch  53 |   106/  269 batches | lr 0.001714 |  8.67 ms | loss 0.00066 | ppl     1.00\n",
            "| epoch  53 |   159/  269 batches | lr 0.001714 |  7.91 ms | loss 0.00067 | ppl     1.00\n",
            "| epoch  53 |   212/  269 batches | lr 0.001714 |  7.82 ms | loss 0.00060 | ppl     1.00\n",
            "| epoch  53 |   265/  269 batches | lr 0.001714 |  7.24 ms | loss 0.00070 | ppl     1.00\n",
            "-----------------------------------------------------------------------------------------\n",
            "| end of epoch  53 | time:  2.27s | valid loss 0.00056 | valid ppl     1.00\n",
            "-----------------------------------------------------------------------------------------\n",
            "| epoch  54 |    53/  269 batches | lr 0.001679 |  7.57 ms | loss 0.00101 | ppl     1.00\n",
            "| epoch  54 |   106/  269 batches | lr 0.001679 |  7.20 ms | loss 0.00084 | ppl     1.00\n",
            "| epoch  54 |   159/  269 batches | lr 0.001679 |  7.23 ms | loss 0.00072 | ppl     1.00\n",
            "| epoch  54 |   212/  269 batches | lr 0.001679 |  8.23 ms | loss 0.00065 | ppl     1.00\n",
            "| epoch  54 |   265/  269 batches | lr 0.001679 |  7.80 ms | loss 0.00061 | ppl     1.00\n",
            "-----------------------------------------------------------------------------------------\n",
            "| end of epoch  54 | time:  2.20s | valid loss 0.00068 | valid ppl     1.00\n",
            "-----------------------------------------------------------------------------------------\n",
            "| epoch  55 |    53/  269 batches | lr 0.001646 |  7.35 ms | loss 0.00071 | ppl     1.00\n",
            "| epoch  55 |   106/  269 batches | lr 0.001646 |  7.28 ms | loss 0.00063 | ppl     1.00\n",
            "| epoch  55 |   159/  269 batches | lr 0.001646 |  7.36 ms | loss 0.00062 | ppl     1.00\n",
            "| epoch  55 |   212/  269 batches | lr 0.001646 |  7.12 ms | loss 0.00065 | ppl     1.00\n",
            "| epoch  55 |   265/  269 batches | lr 0.001646 |  7.38 ms | loss 0.00069 | ppl     1.00\n",
            "-----------------------------------------------------------------------------------------\n",
            "| end of epoch  55 | time:  2.13s | valid loss 0.00077 | valid ppl     1.00\n",
            "-----------------------------------------------------------------------------------------\n",
            "| epoch  56 |    53/  269 batches | lr 0.001613 |  7.36 ms | loss 0.00068 | ppl     1.00\n",
            "| epoch  56 |   106/  269 batches | lr 0.001613 |  7.29 ms | loss 0.00058 | ppl     1.00\n",
            "| epoch  56 |   159/  269 batches | lr 0.001613 |  7.24 ms | loss 0.00059 | ppl     1.00\n",
            "| epoch  56 |   212/  269 batches | lr 0.001613 |  7.26 ms | loss 0.00055 | ppl     1.00\n",
            "| epoch  56 |   265/  269 batches | lr 0.001613 |  7.14 ms | loss 0.00074 | ppl     1.00\n",
            "-----------------------------------------------------------------------------------------\n",
            "| end of epoch  56 | time:  2.11s | valid loss 0.00052 | valid ppl     1.00\n",
            "-----------------------------------------------------------------------------------------\n",
            "| epoch  57 |    53/  269 batches | lr 0.001581 |  7.63 ms | loss 0.00108 | ppl     1.00\n",
            "| epoch  57 |   106/  269 batches | lr 0.001581 |  7.18 ms | loss 0.00076 | ppl     1.00\n",
            "| epoch  57 |   159/  269 batches | lr 0.001581 |  7.47 ms | loss 0.00064 | ppl     1.00\n",
            "| epoch  57 |   212/  269 batches | lr 0.001581 |  7.36 ms | loss 0.00061 | ppl     1.00\n",
            "| epoch  57 |   265/  269 batches | lr 0.001581 |  7.31 ms | loss 0.00066 | ppl     1.00\n",
            "-----------------------------------------------------------------------------------------\n",
            "| end of epoch  57 | time:  2.15s | valid loss 0.00068 | valid ppl     1.00\n",
            "-----------------------------------------------------------------------------------------\n",
            "| epoch  58 |    53/  269 batches | lr 0.001549 |  7.67 ms | loss 0.00073 | ppl     1.00\n",
            "| epoch  58 |   106/  269 batches | lr 0.001549 |  7.33 ms | loss 0.00067 | ppl     1.00\n",
            "| epoch  58 |   159/  269 batches | lr 0.001549 |  7.25 ms | loss 0.00060 | ppl     1.00\n",
            "| epoch  58 |   212/  269 batches | lr 0.001549 |  7.50 ms | loss 0.00059 | ppl     1.00\n",
            "| epoch  58 |   265/  269 batches | lr 0.001549 |  8.53 ms | loss 0.00061 | ppl     1.00\n",
            "-----------------------------------------------------------------------------------------\n",
            "| end of epoch  58 | time:  2.23s | valid loss 0.00073 | valid ppl     1.00\n",
            "-----------------------------------------------------------------------------------------\n",
            "| epoch  59 |    53/  269 batches | lr 0.001518 |  7.65 ms | loss 0.00059 | ppl     1.00\n",
            "| epoch  59 |   106/  269 batches | lr 0.001518 |  7.44 ms | loss 0.00052 | ppl     1.00\n",
            "| epoch  59 |   159/  269 batches | lr 0.001518 |  7.47 ms | loss 0.00057 | ppl     1.00\n",
            "| epoch  59 |   212/  269 batches | lr 0.001518 |  7.35 ms | loss 0.00054 | ppl     1.00\n",
            "| epoch  59 |   265/  269 batches | lr 0.001518 |  7.32 ms | loss 0.00061 | ppl     1.00\n",
            "-----------------------------------------------------------------------------------------\n",
            "| end of epoch  59 | time:  2.17s | valid loss 0.00074 | valid ppl     1.00\n",
            "-----------------------------------------------------------------------------------------\n",
            "| epoch  60 |    53/  269 batches | lr 0.001488 |  8.12 ms | loss 0.00059 | ppl     1.00\n",
            "| epoch  60 |   106/  269 batches | lr 0.001488 |  8.56 ms | loss 0.00054 | ppl     1.00\n",
            "| epoch  60 |   159/  269 batches | lr 0.001488 |  8.66 ms | loss 0.00059 | ppl     1.00\n",
            "| epoch  60 |   212/  269 batches | lr 0.001488 |  7.34 ms | loss 0.00055 | ppl     1.00\n",
            "| epoch  60 |   265/  269 batches | lr 0.001488 |  7.49 ms | loss 0.00062 | ppl     1.00\n",
            "-----------------------------------------------------------------------------------------\n",
            "| end of epoch  60 | time:  4.29s | valid loss 0.00075 | valid ppl     1.00\n",
            "-----------------------------------------------------------------------------------------\n"
          ],
          "name": "stdout"
        },
        {
          "output_type": "stream",
          "text": [
            "/usr/local/lib/python3.6/dist-packages/torch/optim/lr_scheduler.py:351: UserWarning: To get the last learning rate computed by the scheduler, please use `get_last_lr()`.\n",
            "  \"please use `get_last_lr()`.\", UserWarning)\n"
          ],
          "name": "stderr"
        },
        {
          "output_type": "stream",
          "text": [
            "| epoch  61 |    53/  269 batches | lr 0.001458 |  8.03 ms | loss 0.00071 | ppl     1.00\n",
            "| epoch  61 |   106/  269 batches | lr 0.001458 |  7.65 ms | loss 0.00060 | ppl     1.00\n",
            "| epoch  61 |   159/  269 batches | lr 0.001458 |  9.09 ms | loss 0.00059 | ppl     1.00\n",
            "| epoch  61 |   212/  269 batches | lr 0.001458 |  7.70 ms | loss 0.00059 | ppl     1.00\n",
            "| epoch  61 |   265/  269 batches | lr 0.001458 |  7.36 ms | loss 0.00055 | ppl     1.00\n",
            "-----------------------------------------------------------------------------------------\n",
            "| end of epoch  61 | time:  2.31s | valid loss 0.00081 | valid ppl     1.00\n",
            "-----------------------------------------------------------------------------------------\n",
            "| epoch  62 |    53/  269 batches | lr 0.001429 |  7.43 ms | loss 0.00067 | ppl     1.00\n",
            "| epoch  62 |   106/  269 batches | lr 0.001429 |  7.83 ms | loss 0.00059 | ppl     1.00\n",
            "| epoch  62 |   159/  269 batches | lr 0.001429 |  9.15 ms | loss 0.00062 | ppl     1.00\n",
            "| epoch  62 |   212/  269 batches | lr 0.001429 |  8.22 ms | loss 0.00057 | ppl     1.00\n",
            "| epoch  62 |   265/  269 batches | lr 0.001429 |  7.21 ms | loss 0.00055 | ppl     1.00\n",
            "-----------------------------------------------------------------------------------------\n",
            "| end of epoch  62 | time:  2.31s | valid loss 0.00096 | valid ppl     1.00\n",
            "-----------------------------------------------------------------------------------------\n",
            "| epoch  63 |    53/  269 batches | lr 0.001400 |  7.54 ms | loss 0.00059 | ppl     1.00\n",
            "| epoch  63 |   106/  269 batches | lr 0.001400 |  7.31 ms | loss 0.00058 | ppl     1.00\n",
            "| epoch  63 |   159/  269 batches | lr 0.001400 |  7.22 ms | loss 0.00066 | ppl     1.00\n",
            "| epoch  63 |   212/  269 batches | lr 0.001400 |  7.43 ms | loss 0.00079 | ppl     1.00\n",
            "| epoch  63 |   265/  269 batches | lr 0.001400 |  7.34 ms | loss 0.00077 | ppl     1.00\n",
            "-----------------------------------------------------------------------------------------\n",
            "| end of epoch  63 | time:  2.15s | valid loss 0.00068 | valid ppl     1.00\n",
            "-----------------------------------------------------------------------------------------\n",
            "| epoch  64 |    53/  269 batches | lr 0.001372 |  7.62 ms | loss 0.00062 | ppl     1.00\n",
            "| epoch  64 |   106/  269 batches | lr 0.001372 |  7.11 ms | loss 0.00053 | ppl     1.00\n",
            "| epoch  64 |   159/  269 batches | lr 0.001372 |  7.27 ms | loss 0.00059 | ppl     1.00\n",
            "| epoch  64 |   212/  269 batches | lr 0.001372 |  7.25 ms | loss 0.00051 | ppl     1.00\n",
            "| epoch  64 |   265/  269 batches | lr 0.001372 |  7.38 ms | loss 0.00053 | ppl     1.00\n",
            "-----------------------------------------------------------------------------------------\n",
            "| end of epoch  64 | time:  2.14s | valid loss 0.00061 | valid ppl     1.00\n",
            "-----------------------------------------------------------------------------------------\n",
            "| epoch  65 |    53/  269 batches | lr 0.001345 |  7.76 ms | loss 0.00063 | ppl     1.00\n",
            "| epoch  65 |   106/  269 batches | lr 0.001345 |  7.17 ms | loss 0.00054 | ppl     1.00\n",
            "| epoch  65 |   159/  269 batches | lr 0.001345 |  7.24 ms | loss 0.00060 | ppl     1.00\n",
            "| epoch  65 |   212/  269 batches | lr 0.001345 |  7.19 ms | loss 0.00057 | ppl     1.00\n",
            "| epoch  65 |   265/  269 batches | lr 0.001345 |  7.44 ms | loss 0.00052 | ppl     1.00\n",
            "-----------------------------------------------------------------------------------------\n",
            "| end of epoch  65 | time:  2.16s | valid loss 0.00107 | valid ppl     1.00\n",
            "-----------------------------------------------------------------------------------------\n",
            "| epoch  66 |    53/  269 batches | lr 0.001318 |  9.31 ms | loss 0.00056 | ppl     1.00\n",
            "| epoch  66 |   106/  269 batches | lr 0.001318 |  9.04 ms | loss 0.00126 | ppl     1.00\n",
            "| epoch  66 |   159/  269 batches | lr 0.001318 |  8.73 ms | loss 0.00181 | ppl     1.00\n",
            "| epoch  66 |   212/  269 batches | lr 0.001318 |  7.23 ms | loss 0.00174 | ppl     1.00\n",
            "| epoch  66 |   265/  269 batches | lr 0.001318 |  7.54 ms | loss 0.00073 | ppl     1.00\n",
            "-----------------------------------------------------------------------------------------\n",
            "| end of epoch  66 | time:  2.41s | valid loss 0.00109 | valid ppl     1.00\n",
            "-----------------------------------------------------------------------------------------\n",
            "| epoch  67 |    53/  269 batches | lr 0.001292 |  7.50 ms | loss 0.00078 | ppl     1.00\n",
            "| epoch  67 |   106/  269 batches | lr 0.001292 |  7.47 ms | loss 0.00055 | ppl     1.00\n",
            "| epoch  67 |   159/  269 batches | lr 0.001292 |  7.30 ms | loss 0.00059 | ppl     1.00\n",
            "| epoch  67 |   212/  269 batches | lr 0.001292 |  7.34 ms | loss 0.00056 | ppl     1.00\n",
            "| epoch  67 |   265/  269 batches | lr 0.001292 |  7.29 ms | loss 0.00054 | ppl     1.00\n",
            "-----------------------------------------------------------------------------------------\n",
            "| end of epoch  67 | time:  2.15s | valid loss 0.00084 | valid ppl     1.00\n",
            "-----------------------------------------------------------------------------------------\n",
            "| epoch  68 |    53/  269 batches | lr 0.001266 |  7.69 ms | loss 0.00057 | ppl     1.00\n",
            "| epoch  68 |   106/  269 batches | lr 0.001266 |  7.32 ms | loss 0.00053 | ppl     1.00\n",
            "| epoch  68 |   159/  269 batches | lr 0.001266 |  7.50 ms | loss 0.00055 | ppl     1.00\n",
            "| epoch  68 |   212/  269 batches | lr 0.001266 |  7.97 ms | loss 0.00054 | ppl     1.00\n",
            "| epoch  68 |   265/  269 batches | lr 0.001266 |  7.34 ms | loss 0.00051 | ppl     1.00\n",
            "-----------------------------------------------------------------------------------------\n",
            "| end of epoch  68 | time:  2.21s | valid loss 0.00109 | valid ppl     1.00\n",
            "-----------------------------------------------------------------------------------------\n",
            "| epoch  69 |    53/  269 batches | lr 0.001240 |  7.73 ms | loss 0.00056 | ppl     1.00\n",
            "| epoch  69 |   106/  269 batches | lr 0.001240 |  7.16 ms | loss 0.00050 | ppl     1.00\n",
            "| epoch  69 |   159/  269 batches | lr 0.001240 |  7.15 ms | loss 0.00053 | ppl     1.00\n",
            "| epoch  69 |   212/  269 batches | lr 0.001240 |  7.31 ms | loss 0.00051 | ppl     1.00\n",
            "| epoch  69 |   265/  269 batches | lr 0.001240 |  8.04 ms | loss 0.00049 | ppl     1.00\n",
            "-----------------------------------------------------------------------------------------\n",
            "| end of epoch  69 | time:  2.19s | valid loss 0.00090 | valid ppl     1.00\n",
            "-----------------------------------------------------------------------------------------\n",
            "| epoch  70 |    53/  269 batches | lr 0.001216 |  7.73 ms | loss 0.00053 | ppl     1.00\n",
            "| epoch  70 |   106/  269 batches | lr 0.001216 |  7.36 ms | loss 0.00054 | ppl     1.00\n",
            "| epoch  70 |   159/  269 batches | lr 0.001216 |  7.81 ms | loss 0.00064 | ppl     1.00\n",
            "| epoch  70 |   212/  269 batches | lr 0.001216 |  8.78 ms | loss 0.00062 | ppl     1.00\n",
            "| epoch  70 |   265/  269 batches | lr 0.001216 |  7.94 ms | loss 0.00052 | ppl     1.00\n",
            "-----------------------------------------------------------------------------------------\n",
            "| end of epoch  70 | time:  4.43s | valid loss 0.00080 | valid ppl     1.00\n",
            "-----------------------------------------------------------------------------------------\n"
          ],
          "name": "stdout"
        },
        {
          "output_type": "stream",
          "text": [
            "/usr/local/lib/python3.6/dist-packages/torch/optim/lr_scheduler.py:351: UserWarning: To get the last learning rate computed by the scheduler, please use `get_last_lr()`.\n",
            "  \"please use `get_last_lr()`.\", UserWarning)\n"
          ],
          "name": "stderr"
        },
        {
          "output_type": "stream",
          "text": [
            "| epoch  71 |    53/  269 batches | lr 0.001191 |  8.19 ms | loss 0.00057 | ppl     1.00\n",
            "| epoch  71 |   106/  269 batches | lr 0.001191 |  7.41 ms | loss 0.00053 | ppl     1.00\n",
            "| epoch  71 |   159/  269 batches | lr 0.001191 |  7.16 ms | loss 0.00056 | ppl     1.00\n",
            "| epoch  71 |   212/  269 batches | lr 0.001191 |  7.21 ms | loss 0.00054 | ppl     1.00\n",
            "| epoch  71 |   265/  269 batches | lr 0.001191 |  7.27 ms | loss 0.00050 | ppl     1.00\n",
            "-----------------------------------------------------------------------------------------\n",
            "| end of epoch  71 | time:  2.16s | valid loss 0.00096 | valid ppl     1.00\n",
            "-----------------------------------------------------------------------------------------\n",
            "| epoch  72 |    53/  269 batches | lr 0.001167 |  7.58 ms | loss 0.00052 | ppl     1.00\n",
            "| epoch  72 |   106/  269 batches | lr 0.001167 |  7.27 ms | loss 0.00049 | ppl     1.00\n",
            "| epoch  72 |   159/  269 batches | lr 0.001167 |  7.27 ms | loss 0.00058 | ppl     1.00\n",
            "| epoch  72 |   212/  269 batches | lr 0.001167 |  7.22 ms | loss 0.00063 | ppl     1.00\n",
            "| epoch  72 |   265/  269 batches | lr 0.001167 |  7.26 ms | loss 0.00051 | ppl     1.00\n",
            "-----------------------------------------------------------------------------------------\n",
            "| end of epoch  72 | time:  2.14s | valid loss 0.00091 | valid ppl     1.00\n",
            "-----------------------------------------------------------------------------------------\n",
            "| epoch  73 |    53/  269 batches | lr 0.001144 |  7.39 ms | loss 0.00054 | ppl     1.00\n",
            "| epoch  73 |   106/  269 batches | lr 0.001144 |  7.23 ms | loss 0.00053 | ppl     1.00\n",
            "| epoch  73 |   159/  269 batches | lr 0.001144 |  7.18 ms | loss 0.00054 | ppl     1.00\n",
            "| epoch  73 |   212/  269 batches | lr 0.001144 |  7.28 ms | loss 0.00052 | ppl     1.00\n",
            "| epoch  73 |   265/  269 batches | lr 0.001144 |  7.18 ms | loss 0.00050 | ppl     1.00\n",
            "-----------------------------------------------------------------------------------------\n",
            "| end of epoch  73 | time:  2.11s | valid loss 0.00083 | valid ppl     1.00\n",
            "-----------------------------------------------------------------------------------------\n",
            "| epoch  74 |    53/  269 batches | lr 0.001121 |  7.42 ms | loss 0.00051 | ppl     1.00\n",
            "| epoch  74 |   106/  269 batches | lr 0.001121 |  7.21 ms | loss 0.00049 | ppl     1.00\n",
            "| epoch  74 |   159/  269 batches | lr 0.001121 |  8.58 ms | loss 0.00052 | ppl     1.00\n",
            "| epoch  74 |   212/  269 batches | lr 0.001121 |  8.94 ms | loss 0.00052 | ppl     1.00\n",
            "| epoch  74 |   265/  269 batches | lr 0.001121 |  8.56 ms | loss 0.00053 | ppl     1.00\n",
            "-----------------------------------------------------------------------------------------\n",
            "| end of epoch  74 | time:  2.36s | valid loss 0.00087 | valid ppl     1.00\n",
            "-----------------------------------------------------------------------------------------\n",
            "| epoch  75 |    53/  269 batches | lr 0.001099 |  7.62 ms | loss 0.00056 | ppl     1.00\n",
            "| epoch  75 |   106/  269 batches | lr 0.001099 |  7.70 ms | loss 0.00051 | ppl     1.00\n",
            "| epoch  75 |   159/  269 batches | lr 0.001099 |  8.91 ms | loss 0.00057 | ppl     1.00\n",
            "| epoch  75 |   212/  269 batches | lr 0.001099 |  7.50 ms | loss 0.00064 | ppl     1.00\n",
            "| epoch  75 |   265/  269 batches | lr 0.001099 |  7.39 ms | loss 0.00050 | ppl     1.00\n",
            "-----------------------------------------------------------------------------------------\n",
            "| end of epoch  75 | time:  2.26s | valid loss 0.00089 | valid ppl     1.00\n",
            "-----------------------------------------------------------------------------------------\n",
            "| epoch  76 |    53/  269 batches | lr 0.001077 |  7.89 ms | loss 0.00052 | ppl     1.00\n",
            "| epoch  76 |   106/  269 batches | lr 0.001077 |  7.34 ms | loss 0.00051 | ppl     1.00\n",
            "| epoch  76 |   159/  269 batches | lr 0.001077 |  7.28 ms | loss 0.00054 | ppl     1.00\n",
            "| epoch  76 |   212/  269 batches | lr 0.001077 |  7.16 ms | loss 0.00051 | ppl     1.00\n",
            "| epoch  76 |   265/  269 batches | lr 0.001077 |  7.24 ms | loss 0.00052 | ppl     1.00\n",
            "-----------------------------------------------------------------------------------------\n",
            "| end of epoch  76 | time:  2.16s | valid loss 0.00080 | valid ppl     1.00\n",
            "-----------------------------------------------------------------------------------------\n",
            "| epoch  77 |    53/  269 batches | lr 0.001055 |  7.37 ms | loss 0.00058 | ppl     1.00\n",
            "| epoch  77 |   106/  269 batches | lr 0.001055 |  7.18 ms | loss 0.00049 | ppl     1.00\n",
            "| epoch  77 |   159/  269 batches | lr 0.001055 |  7.26 ms | loss 0.00048 | ppl     1.00\n",
            "| epoch  77 |   212/  269 batches | lr 0.001055 |  7.07 ms | loss 0.00055 | ppl     1.00\n",
            "| epoch  77 |   265/  269 batches | lr 0.001055 |  7.29 ms | loss 0.00056 | ppl     1.00\n",
            "-----------------------------------------------------------------------------------------\n",
            "| end of epoch  77 | time:  2.11s | valid loss 0.00071 | valid ppl     1.00\n",
            "-----------------------------------------------------------------------------------------\n",
            "| epoch  78 |    53/  269 batches | lr 0.001034 |  7.36 ms | loss 0.00050 | ppl     1.00\n",
            "| epoch  78 |   106/  269 batches | lr 0.001034 |  7.26 ms | loss 0.00046 | ppl     1.00\n",
            "| epoch  78 |   159/  269 batches | lr 0.001034 |  7.20 ms | loss 0.00051 | ppl     1.00\n",
            "| epoch  78 |   212/  269 batches | lr 0.001034 |  7.11 ms | loss 0.00051 | ppl     1.00\n",
            "| epoch  78 |   265/  269 batches | lr 0.001034 |  7.28 ms | loss 0.00046 | ppl     1.00\n",
            "-----------------------------------------------------------------------------------------\n",
            "| end of epoch  78 | time:  2.12s | valid loss 0.00088 | valid ppl     1.00\n",
            "-----------------------------------------------------------------------------------------\n",
            "| epoch  79 |    53/  269 batches | lr 0.001014 |  8.55 ms | loss 0.00050 | ppl     1.00\n",
            "| epoch  79 |   106/  269 batches | lr 0.001014 |  7.65 ms | loss 0.00048 | ppl     1.00\n",
            "| epoch  79 |   159/  269 batches | lr 0.001014 |  7.25 ms | loss 0.00050 | ppl     1.00\n",
            "| epoch  79 |   212/  269 batches | lr 0.001014 |  7.31 ms | loss 0.00051 | ppl     1.00\n",
            "| epoch  79 |   265/  269 batches | lr 0.001014 |  7.70 ms | loss 0.00048 | ppl     1.00\n",
            "-----------------------------------------------------------------------------------------\n",
            "| end of epoch  79 | time:  2.25s | valid loss 0.00074 | valid ppl     1.00\n",
            "-----------------------------------------------------------------------------------------\n",
            "| epoch  80 |    53/  269 batches | lr 0.000993 |  7.48 ms | loss 0.00051 | ppl     1.00\n",
            "| epoch  80 |   106/  269 batches | lr 0.000993 |  7.17 ms | loss 0.00048 | ppl     1.00\n",
            "| epoch  80 |   159/  269 batches | lr 0.000993 |  7.21 ms | loss 0.00049 | ppl     1.00\n",
            "| epoch  80 |   212/  269 batches | lr 0.000993 |  7.26 ms | loss 0.00047 | ppl     1.00\n",
            "| epoch  80 |   265/  269 batches | lr 0.000993 |  7.23 ms | loss 0.00048 | ppl     1.00\n",
            "-----------------------------------------------------------------------------------------\n",
            "| end of epoch  80 | time:  4.17s | valid loss 0.00086 | valid ppl     1.00\n",
            "-----------------------------------------------------------------------------------------\n"
          ],
          "name": "stdout"
        },
        {
          "output_type": "stream",
          "text": [
            "/usr/local/lib/python3.6/dist-packages/torch/optim/lr_scheduler.py:351: UserWarning: To get the last learning rate computed by the scheduler, please use `get_last_lr()`.\n",
            "  \"please use `get_last_lr()`.\", UserWarning)\n"
          ],
          "name": "stderr"
        },
        {
          "output_type": "stream",
          "text": [
            "| epoch  81 |    53/  269 batches | lr 0.000973 |  9.63 ms | loss 0.00053 | ppl     1.00\n",
            "| epoch  81 |   106/  269 batches | lr 0.000973 |  8.76 ms | loss 0.00046 | ppl     1.00\n",
            "| epoch  81 |   159/  269 batches | lr 0.000973 |  8.03 ms | loss 0.00050 | ppl     1.00\n",
            "| epoch  81 |   212/  269 batches | lr 0.000973 |  7.12 ms | loss 0.00063 | ppl     1.00\n",
            "| epoch  81 |   265/  269 batches | lr 0.000973 |  7.08 ms | loss 0.00060 | ppl     1.00\n",
            "-----------------------------------------------------------------------------------------\n",
            "| end of epoch  81 | time:  2.34s | valid loss 0.00087 | valid ppl     1.00\n",
            "-----------------------------------------------------------------------------------------\n",
            "| epoch  82 |    53/  269 batches | lr 0.000954 |  7.85 ms | loss 0.00051 | ppl     1.00\n",
            "| epoch  82 |   106/  269 batches | lr 0.000954 |  8.48 ms | loss 0.00047 | ppl     1.00\n",
            "| epoch  82 |   159/  269 batches | lr 0.000954 |  7.77 ms | loss 0.00049 | ppl     1.00\n",
            "| epoch  82 |   212/  269 batches | lr 0.000954 |  7.32 ms | loss 0.00050 | ppl     1.00\n",
            "| epoch  82 |   265/  269 batches | lr 0.000954 |  7.16 ms | loss 0.00046 | ppl     1.00\n",
            "-----------------------------------------------------------------------------------------\n",
            "| end of epoch  82 | time:  2.24s | valid loss 0.00090 | valid ppl     1.00\n",
            "-----------------------------------------------------------------------------------------\n",
            "| epoch  83 |    53/  269 batches | lr 0.000935 |  7.45 ms | loss 0.00050 | ppl     1.00\n",
            "| epoch  83 |   106/  269 batches | lr 0.000935 |  7.18 ms | loss 0.00045 | ppl     1.00\n",
            "| epoch  83 |   159/  269 batches | lr 0.000935 |  8.26 ms | loss 0.00046 | ppl     1.00\n",
            "| epoch  83 |   212/  269 batches | lr 0.000935 |  7.19 ms | loss 0.00044 | ppl     1.00\n",
            "| epoch  83 |   265/  269 batches | lr 0.000935 |  7.30 ms | loss 0.00046 | ppl     1.00\n",
            "-----------------------------------------------------------------------------------------\n",
            "| end of epoch  83 | time:  2.17s | valid loss 0.00087 | valid ppl     1.00\n",
            "-----------------------------------------------------------------------------------------\n",
            "| epoch  84 |    53/  269 batches | lr 0.000916 |  7.40 ms | loss 0.00048 | ppl     1.00\n",
            "| epoch  84 |   106/  269 batches | lr 0.000916 |  7.27 ms | loss 0.00043 | ppl     1.00\n",
            "| epoch  84 |   159/  269 batches | lr 0.000916 |  7.09 ms | loss 0.00045 | ppl     1.00\n",
            "| epoch  84 |   212/  269 batches | lr 0.000916 |  7.10 ms | loss 0.00044 | ppl     1.00\n",
            "| epoch  84 |   265/  269 batches | lr 0.000916 |  7.37 ms | loss 0.00046 | ppl     1.00\n",
            "-----------------------------------------------------------------------------------------\n",
            "| end of epoch  84 | time:  2.11s | valid loss 0.00073 | valid ppl     1.00\n",
            "-----------------------------------------------------------------------------------------\n",
            "| epoch  85 |    53/  269 batches | lr 0.000898 |  7.37 ms | loss 0.00057 | ppl     1.00\n",
            "| epoch  85 |   106/  269 batches | lr 0.000898 |  7.24 ms | loss 0.00055 | ppl     1.00\n",
            "| epoch  85 |   159/  269 batches | lr 0.000898 |  7.07 ms | loss 0.00052 | ppl     1.00\n",
            "| epoch  85 |   212/  269 batches | lr 0.000898 |  7.14 ms | loss 0.00058 | ppl     1.00\n",
            "| epoch  85 |   265/  269 batches | lr 0.000898 |  7.54 ms | loss 0.00048 | ppl     1.00\n",
            "-----------------------------------------------------------------------------------------\n",
            "| end of epoch  85 | time:  2.12s | valid loss 0.00089 | valid ppl     1.00\n",
            "-----------------------------------------------------------------------------------------\n",
            "| epoch  86 |    53/  269 batches | lr 0.000880 |  7.55 ms | loss 0.00049 | ppl     1.00\n",
            "| epoch  86 |   106/  269 batches | lr 0.000880 |  7.39 ms | loss 0.00042 | ppl     1.00\n",
            "| epoch  86 |   159/  269 batches | lr 0.000880 |  8.44 ms | loss 0.00046 | ppl     1.00\n",
            "| epoch  86 |   212/  269 batches | lr 0.000880 |  7.25 ms | loss 0.00042 | ppl     1.00\n",
            "| epoch  86 |   265/  269 batches | lr 0.000880 |  8.01 ms | loss 0.00045 | ppl     1.00\n",
            "-----------------------------------------------------------------------------------------\n",
            "| end of epoch  86 | time:  2.25s | valid loss 0.00099 | valid ppl     1.00\n",
            "-----------------------------------------------------------------------------------------\n",
            "| epoch  87 |    53/  269 batches | lr 0.000862 |  9.05 ms | loss 0.00049 | ppl     1.00\n",
            "| epoch  87 |   106/  269 batches | lr 0.000862 |  7.20 ms | loss 0.00046 | ppl     1.00\n",
            "| epoch  87 |   159/  269 batches | lr 0.000862 |  7.21 ms | loss 0.00049 | ppl     1.00\n",
            "| epoch  87 |   212/  269 batches | lr 0.000862 |  7.31 ms | loss 0.00054 | ppl     1.00\n",
            "| epoch  87 |   265/  269 batches | lr 0.000862 |  7.15 ms | loss 0.00047 | ppl     1.00\n",
            "-----------------------------------------------------------------------------------------\n",
            "| end of epoch  87 | time:  2.21s | valid loss 0.00096 | valid ppl     1.00\n",
            "-----------------------------------------------------------------------------------------\n",
            "| epoch  88 |    53/  269 batches | lr 0.000845 |  8.77 ms | loss 0.00047 | ppl     1.00\n",
            "| epoch  88 |   106/  269 batches | lr 0.000845 |  8.89 ms | loss 0.00042 | ppl     1.00\n",
            "| epoch  88 |   159/  269 batches | lr 0.000845 |  8.90 ms | loss 0.00044 | ppl     1.00\n",
            "| epoch  88 |   212/  269 batches | lr 0.000845 |  8.17 ms | loss 0.00043 | ppl     1.00\n",
            "| epoch  88 |   265/  269 batches | lr 0.000845 |  7.17 ms | loss 0.00044 | ppl     1.00\n",
            "-----------------------------------------------------------------------------------------\n",
            "| end of epoch  88 | time:  2.41s | valid loss 0.00094 | valid ppl     1.00\n",
            "-----------------------------------------------------------------------------------------\n",
            "| epoch  89 |    53/  269 batches | lr 0.000828 |  7.37 ms | loss 0.00047 | ppl     1.00\n",
            "| epoch  89 |   106/  269 batches | lr 0.000828 |  7.15 ms | loss 0.00042 | ppl     1.00\n",
            "| epoch  89 |   159/  269 batches | lr 0.000828 |  8.76 ms | loss 0.00045 | ppl     1.00\n",
            "| epoch  89 |   212/  269 batches | lr 0.000828 |  7.39 ms | loss 0.00042 | ppl     1.00\n",
            "| epoch  89 |   265/  269 batches | lr 0.000828 |  7.99 ms | loss 0.00044 | ppl     1.00\n",
            "-----------------------------------------------------------------------------------------\n",
            "| end of epoch  89 | time:  2.23s | valid loss 0.00095 | valid ppl     1.00\n",
            "-----------------------------------------------------------------------------------------\n",
            "| epoch  90 |    53/  269 batches | lr 0.000812 |  7.46 ms | loss 0.00051 | ppl     1.00\n",
            "| epoch  90 |   106/  269 batches | lr 0.000812 |  7.32 ms | loss 0.00050 | ppl     1.00\n",
            "| epoch  90 |   159/  269 batches | lr 0.000812 |  7.44 ms | loss 0.00045 | ppl     1.00\n",
            "| epoch  90 |   212/  269 batches | lr 0.000812 |  8.63 ms | loss 0.00045 | ppl     1.00\n",
            "| epoch  90 |   265/  269 batches | lr 0.000812 |  7.23 ms | loss 0.00043 | ppl     1.00\n",
            "-----------------------------------------------------------------------------------------\n",
            "| end of epoch  90 | time:  4.26s | valid loss 0.00087 | valid ppl     1.00\n",
            "-----------------------------------------------------------------------------------------\n"
          ],
          "name": "stdout"
        },
        {
          "output_type": "stream",
          "text": [
            "/usr/local/lib/python3.6/dist-packages/torch/optim/lr_scheduler.py:351: UserWarning: To get the last learning rate computed by the scheduler, please use `get_last_lr()`.\n",
            "  \"please use `get_last_lr()`.\", UserWarning)\n"
          ],
          "name": "stderr"
        },
        {
          "output_type": "stream",
          "text": [
            "| epoch  91 |    53/  269 batches | lr 0.000795 |  9.00 ms | loss 0.00048 | ppl     1.00\n",
            "| epoch  91 |   106/  269 batches | lr 0.000795 |  7.34 ms | loss 0.00043 | ppl     1.00\n",
            "| epoch  91 |   159/  269 batches | lr 0.000795 |  7.25 ms | loss 0.00044 | ppl     1.00\n",
            "| epoch  91 |   212/  269 batches | lr 0.000795 |  8.66 ms | loss 0.00041 | ppl     1.00\n",
            "| epoch  91 |   265/  269 batches | lr 0.000795 |  7.19 ms | loss 0.00045 | ppl     1.00\n",
            "-----------------------------------------------------------------------------------------\n",
            "| end of epoch  91 | time:  2.29s | valid loss 0.00085 | valid ppl     1.00\n",
            "-----------------------------------------------------------------------------------------\n",
            "| epoch  92 |    53/  269 batches | lr 0.000779 |  7.52 ms | loss 0.00050 | ppl     1.00\n",
            "| epoch  92 |   106/  269 batches | lr 0.000779 |  7.23 ms | loss 0.00044 | ppl     1.00\n",
            "| epoch  92 |   159/  269 batches | lr 0.000779 |  8.03 ms | loss 0.00046 | ppl     1.00\n",
            "| epoch  92 |   212/  269 batches | lr 0.000779 |  7.30 ms | loss 0.00051 | ppl     1.00\n",
            "| epoch  92 |   265/  269 batches | lr 0.000779 |  7.27 ms | loss 0.00047 | ppl     1.00\n",
            "-----------------------------------------------------------------------------------------\n",
            "| end of epoch  92 | time:  2.18s | valid loss 0.00087 | valid ppl     1.00\n",
            "-----------------------------------------------------------------------------------------\n",
            "| epoch  93 |    53/  269 batches | lr 0.000764 |  8.00 ms | loss 0.00047 | ppl     1.00\n",
            "| epoch  93 |   106/  269 batches | lr 0.000764 |  7.22 ms | loss 0.00041 | ppl     1.00\n",
            "| epoch  93 |   159/  269 batches | lr 0.000764 |  7.48 ms | loss 0.00044 | ppl     1.00\n",
            "| epoch  93 |   212/  269 batches | lr 0.000764 |  7.17 ms | loss 0.00042 | ppl     1.00\n",
            "| epoch  93 |   265/  269 batches | lr 0.000764 |  7.34 ms | loss 0.00044 | ppl     1.00\n",
            "-----------------------------------------------------------------------------------------\n",
            "| end of epoch  93 | time:  2.17s | valid loss 0.00100 | valid ppl     1.00\n",
            "-----------------------------------------------------------------------------------------\n",
            "| epoch  94 |    53/  269 batches | lr 0.000749 |  7.45 ms | loss 0.00050 | ppl     1.00\n",
            "| epoch  94 |   106/  269 batches | lr 0.000749 |  7.83 ms | loss 0.00044 | ppl     1.00\n",
            "| epoch  94 |   159/  269 batches | lr 0.000749 |  7.26 ms | loss 0.00046 | ppl     1.00\n",
            "| epoch  94 |   212/  269 batches | lr 0.000749 |  7.31 ms | loss 0.00045 | ppl     1.00\n",
            "| epoch  94 |   265/  269 batches | lr 0.000749 |  7.23 ms | loss 0.00044 | ppl     1.00\n",
            "-----------------------------------------------------------------------------------------\n",
            "| end of epoch  94 | time:  2.16s | valid loss 0.00090 | valid ppl     1.00\n",
            "-----------------------------------------------------------------------------------------\n",
            "| epoch  95 |    53/  269 batches | lr 0.000734 |  7.29 ms | loss 0.00046 | ppl     1.00\n",
            "| epoch  95 |   106/  269 batches | lr 0.000734 |  7.20 ms | loss 0.00042 | ppl     1.00\n",
            "| epoch  95 |   159/  269 batches | lr 0.000734 |  7.14 ms | loss 0.00043 | ppl     1.00\n",
            "| epoch  95 |   212/  269 batches | lr 0.000734 |  7.20 ms | loss 0.00043 | ppl     1.00\n",
            "| epoch  95 |   265/  269 batches | lr 0.000734 |  7.53 ms | loss 0.00043 | ppl     1.00\n",
            "-----------------------------------------------------------------------------------------\n",
            "| end of epoch  95 | time:  2.12s | valid loss 0.00089 | valid ppl     1.00\n",
            "-----------------------------------------------------------------------------------------\n",
            "| epoch  96 |    53/  269 batches | lr 0.000719 |  8.29 ms | loss 0.00047 | ppl     1.00\n",
            "| epoch  96 |   106/  269 batches | lr 0.000719 |  7.15 ms | loss 0.00045 | ppl     1.00\n",
            "| epoch  96 |   159/  269 batches | lr 0.000719 |  7.13 ms | loss 0.00046 | ppl     1.00\n",
            "| epoch  96 |   212/  269 batches | lr 0.000719 |  7.71 ms | loss 0.00049 | ppl     1.00\n",
            "| epoch  96 |   265/  269 batches | lr 0.000719 |  8.22 ms | loss 0.00045 | ppl     1.00\n",
            "-----------------------------------------------------------------------------------------\n",
            "| end of epoch  96 | time:  2.23s | valid loss 0.00101 | valid ppl     1.00\n",
            "-----------------------------------------------------------------------------------------\n",
            "| epoch  97 |    53/  269 batches | lr 0.000705 |  7.53 ms | loss 0.00049 | ppl     1.00\n",
            "| epoch  97 |   106/  269 batches | lr 0.000705 |  7.28 ms | loss 0.00041 | ppl     1.00\n",
            "| epoch  97 |   159/  269 batches | lr 0.000705 |  7.18 ms | loss 0.00043 | ppl     1.00\n",
            "| epoch  97 |   212/  269 batches | lr 0.000705 |  7.16 ms | loss 0.00041 | ppl     1.00\n",
            "| epoch  97 |   265/  269 batches | lr 0.000705 |  7.25 ms | loss 0.00042 | ppl     1.00\n",
            "-----------------------------------------------------------------------------------------\n",
            "| end of epoch  97 | time:  2.12s | valid loss 0.00082 | valid ppl     1.00\n",
            "-----------------------------------------------------------------------------------------\n",
            "| epoch  98 |    53/  269 batches | lr 0.000690 |  8.73 ms | loss 0.00046 | ppl     1.00\n",
            "| epoch  98 |   106/  269 batches | lr 0.000690 |  7.56 ms | loss 0.00042 | ppl     1.00\n",
            "| epoch  98 |   159/  269 batches | lr 0.000690 |  7.23 ms | loss 0.00045 | ppl     1.00\n",
            "| epoch  98 |   212/  269 batches | lr 0.000690 |  7.23 ms | loss 0.00043 | ppl     1.00\n",
            "| epoch  98 |   265/  269 batches | lr 0.000690 |  7.17 ms | loss 0.00042 | ppl     1.00\n",
            "-----------------------------------------------------------------------------------------\n",
            "| end of epoch  98 | time:  2.20s | valid loss 0.00100 | valid ppl     1.00\n",
            "-----------------------------------------------------------------------------------------\n",
            "| epoch  99 |    53/  269 batches | lr 0.000677 |  8.84 ms | loss 0.00046 | ppl     1.00\n",
            "| epoch  99 |   106/  269 batches | lr 0.000677 |  7.09 ms | loss 0.00041 | ppl     1.00\n",
            "| epoch  99 |   159/  269 batches | lr 0.000677 |  7.33 ms | loss 0.00046 | ppl     1.00\n",
            "| epoch  99 |   212/  269 batches | lr 0.000677 |  7.19 ms | loss 0.00049 | ppl     1.00\n",
            "| epoch  99 |   265/  269 batches | lr 0.000677 |  7.15 ms | loss 0.00044 | ppl     1.00\n",
            "-----------------------------------------------------------------------------------------\n",
            "| end of epoch  99 | time:  2.19s | valid loss 0.00087 | valid ppl     1.00\n",
            "-----------------------------------------------------------------------------------------\n",
            "| epoch 100 |    53/  269 batches | lr 0.000663 |  7.90 ms | loss 0.00044 | ppl     1.00\n",
            "| epoch 100 |   106/  269 batches | lr 0.000663 |  7.19 ms | loss 0.00041 | ppl     1.00\n",
            "| epoch 100 |   159/  269 batches | lr 0.000663 |  7.31 ms | loss 0.00044 | ppl     1.00\n",
            "| epoch 100 |   212/  269 batches | lr 0.000663 |  7.18 ms | loss 0.00044 | ppl     1.00\n",
            "| epoch 100 |   265/  269 batches | lr 0.000663 |  7.41 ms | loss 0.00044 | ppl     1.00\n",
            "-----------------------------------------------------------------------------------------\n",
            "| end of epoch 100 | time:  4.11s | valid loss 0.00093 | valid ppl     1.00\n",
            "-----------------------------------------------------------------------------------------\n"
          ],
          "name": "stdout"
        }
      ]
    },
    {
      "cell_type": "code",
      "metadata": {
        "id": "etvFAb6u6-9T",
        "colab_type": "code",
        "colab": {
          "base_uri": "https://localhost:8080/",
          "height": 85
        },
        "outputId": "261b4869-fa63-4266-fdc2-fecf5e4f363e"
      },
      "source": [
        "ls graph"
      ],
      "execution_count": 21,
      "outputs": [
        {
          "output_type": "stream",
          "text": [
            "transformer-epoch100.png  transformer-epoch40.png  transformer-epoch80.png\n",
            "transformer-epoch10.png   transformer-epoch50.png  transformer-epoch90.png\n",
            "transformer-epoch20.png   transformer-epoch60.png  transformer-future200.png\n",
            "transformer-epoch30.png   transformer-epoch70.png\n"
          ],
          "name": "stdout"
        }
      ]
    },
    {
      "cell_type": "code",
      "metadata": {
        "id": "hCbRn2ge9JJ8",
        "colab_type": "code",
        "colab": {
          "base_uri": "https://localhost:8080/",
          "height": 286
        },
        "outputId": "586cbd62-9ad0-4f70-fa33-994d4bbe852d"
      },
      "source": [
        "import matplotlib.pyplot as plt\n",
        "steps = 10\n",
        "img = plt.imread('graph/transformer-epoch%d.png'%steps)\n",
        "plt.imshow(img)\n"
      ],
      "execution_count": 35,
      "outputs": [
        {
          "output_type": "execute_result",
          "data": {
            "text/plain": [
              "<matplotlib.image.AxesImage at 0x7fe181d03828>"
            ]
          },
          "metadata": {
            "tags": []
          },
          "execution_count": 35
        },
        {
          "output_type": "display_data",
          "data": {
            "image/png": "[encoded data removed]",
            "text/plain": [
              "<Figure size 432x288 with 1 Axes>"
            ]
          },
          "metadata": {
            "tags": [],
            "needs_background": "light"
          }
        }
      ]
    },
    {
      "cell_type": "code",
      "metadata": {
        "id": "KxaCtw0m_jSn",
        "colab_type": "code",
        "colab": {
          "base_uri": "https://localhost:8080/",
          "height": 286
        },
        "outputId": "40ed3278-748a-417e-a2eb-98f0adac4914"
      },
      "source": [
        "img = plt.imread('graph/transformer-future200.png')\n",
        "plt.imshow(img)"
      ],
      "execution_count": 38,
      "outputs": [
        {
          "output_type": "execute_result",
          "data": {
            "text/plain": [
              "<matplotlib.image.AxesImage at 0x7fe181c8e048>"
            ]
          },
          "metadata": {
            "tags": []
          },
          "execution_count": 38
        },
        {
          "output_type": "display_data",
          "data": {
            "image/png": "[encoded data removed]",
            "text/plain": [
              "<Figure size 432x288 with 1 Axes>"
            ]
          },
          "metadata": {
            "tags": [],
            "needs_background": "light"
          }
        }
      ]
    }
  ]
}
